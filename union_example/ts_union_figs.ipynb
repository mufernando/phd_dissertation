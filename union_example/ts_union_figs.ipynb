{
 "cells": [
  {
   "cell_type": "code",
   "execution_count": 1,
   "id": "ed1f8ece-a687-4ac0-adb2-427205c871c1",
   "metadata": {},
   "outputs": [
    {
     "name": "stderr",
     "output_type": "stream",
     "text": [
      "/Users/murillor/opt/anaconda3/envs/union/lib/python3.10/site-packages/stdpopsim/catalog/HomSap/demographic_models.py:158: FutureWarning: Calling int on a single element Series is deprecated and will raise a TypeError in the future. Use int(ser.iloc[0]) instead\n",
      "  time=int(extended_GF.time.head(1) - 1), rate=0\n",
      "/Users/murillor/opt/anaconda3/envs/union/lib/python3.10/site-packages/stdpopsim/catalog/HomSap/demographic_models.py:161: FutureWarning: Calling int on a single element Series is deprecated and will raise a TypeError in the future. Use int(ser.iloc[0]) instead\n",
      "  time=int(extended_GF.time.tail(1) + 1), rate=0\n"
     ]
    }
   ],
   "source": [
    "import stdpopsim\n",
    "import tskit\n",
    "import msprime\n",
    "from IPython.display import display\n",
    "import tskit_arg_visualizer\n",
    "import numpy as np"
   ]
  },
  {
   "cell_type": "code",
   "execution_count": 2,
   "id": "76a0e70e-b9b9-4a01-9883-a1a6d7e1fe80",
   "metadata": {},
   "outputs": [
    {
     "data": {
      "application/javascript": [
       "var script = document.createElement('script');\n",
       "script.type = 'text/javascript';\n",
       "script.src = 'https://d3js.org/d3.v7.min.js';\n",
       "document.head.appendChild(script);\n"
      ],
      "text/plain": [
       "<IPython.core.display.Javascript object>"
      ]
     },
     "metadata": {},
     "output_type": "display_data"
    }
   ],
   "source": [
    "%%javascript\n",
    "var script = document.createElement('script');\n",
    "script.type = 'text/javascript';\n",
    "script.src = 'https://d3js.org/d3.v7.min.js';\n",
    "document.head.appendChild(script);"
   ]
  },
  {
   "cell_type": "code",
   "execution_count": 3,
   "id": "309e0ba1-1808-49e7-8a26-7f2faa94fe2f",
   "metadata": {},
   "outputs": [],
   "source": [
    "ts = msprime.sim_ancestry(samples=4, ploidy=1, population_size=50000, recombination_rate=5e-8, sequence_length=200, random_seed=123, record_full_arg=True)\n",
    "ts = msprime.sim_mutations(ts, rate=5e-8, random_seed=12345)"
   ]
  },
  {
   "cell_type": "code",
   "execution_count": 4,
   "id": "635e83a5-148e-4fe7-ae8b-02526e095efc",
   "metadata": {},
   "outputs": [],
   "source": [
    "tss = ts.simplify()"
   ]
  },
  {
   "cell_type": "code",
   "execution_count": 5,
   "id": "29bf3341-805d-4cfe-8fb9-a796fed8dbe5",
   "metadata": {},
   "outputs": [
    {
     "data": {
      "text/html": [
       "\n",
       "            <div>\n",
       "              <style>\n",
       "                .tskit-table thead tr th {text-align: left;padding: 0.5em 0.5em;}\n",
       "                .tskit-table tbody tr td {padding: 0.5em 0.5em;}\n",
       "                .tskit-table tbody tr td:first-of-type {text-align: left;}\n",
       "                .tskit-details-label {vertical-align: top; padding-right:5px;}\n",
       "                .tskit-table-set {display: inline-flex;flex-wrap: wrap;margin: -12px 0 0 -12px;width: calc(100% + 12px);}\n",
       "                .tskit-table-set-table {margin: 12px 0 0 12px;}\n",
       "                details {display: inline-block;}\n",
       "                summary {cursor: pointer; outline: 0; display: list-item;}\n",
       "              </style>\n",
       "              <div class=\"tskit-table-set\">\n",
       "                <div class=\"tskit-table-set-table\">\n",
       "                  <table class=\"tskit-table\">\n",
       "                    <thead>\n",
       "                      <tr>\n",
       "                        <th style=\"padding:0;line-height:21px;\">\n",
       "                          <img style=\"height: 32px;display: inline-block;padding: 3px 5px 3px 0;\" src=\"https://raw.githubusercontent.com/tskit-dev/administrative/main/tskit_logo.svg\"/>\n",
       "                          <a target=\"_blank\" href=\"https://tskit.dev/tskit/docs/latest/python-api.html#the-treesequence-class\"> Tree Sequence </a>\n",
       "                        </th>\n",
       "                      </tr>\n",
       "                    </thead>\n",
       "                    <tbody>\n",
       "                      <tr><td>Trees</td><td>3</td></tr>\n",
       "                      <tr><td>Sequence Length</td><td>200.0</td></tr>\n",
       "                      <tr><td>Time Units</td><td>generations</td></tr>\n",
       "                      <tr><td>Sample Nodes</td><td>4</td></tr>\n",
       "                      <tr><td>Total Size</td><td>3.3 KiB</td></tr>\n",
       "                      <tr>\n",
       "                        <td>Metadata</td><td style=\"text-align: left;\">No Metadata</td></tr>\n",
       "                    </tbody>\n",
       "                  </table>\n",
       "                </div>\n",
       "                <div class=\"tskit-table-set-table\">\n",
       "                  <table class=\"tskit-table\">\n",
       "                    <thead>\n",
       "                      <tr>\n",
       "                        <th style=\"line-height:21px;\">Table</th>\n",
       "                        <th>Rows</th>\n",
       "                        <th>Size</th>\n",
       "                        <th>Has Metadata</th>\n",
       "                      </tr>\n",
       "                    </thead>\n",
       "                    <tbody>\n",
       "                    \n",
       "                  <tr>\n",
       "                    <td>Edges</td>\n",
       "                      <td>14</td>\n",
       "                      <td>456 Bytes</td>\n",
       "                      <td style=\"text-align: center;\">\n",
       "                        \n",
       "                      </td>\n",
       "                    </tr>\n",
       "                \n",
       "                  <tr>\n",
       "                    <td>Individuals</td>\n",
       "                      <td>4</td>\n",
       "                      <td>136 Bytes</td>\n",
       "                      <td style=\"text-align: center;\">\n",
       "                        \n",
       "                      </td>\n",
       "                    </tr>\n",
       "                \n",
       "                  <tr>\n",
       "                    <td>Migrations</td>\n",
       "                      <td>0</td>\n",
       "                      <td>8 Bytes</td>\n",
       "                      <td style=\"text-align: center;\">\n",
       "                        \n",
       "                      </td>\n",
       "                    </tr>\n",
       "                \n",
       "                  <tr>\n",
       "                    <td>Mutations</td>\n",
       "                      <td>5</td>\n",
       "                      <td>201 Bytes</td>\n",
       "                      <td style=\"text-align: center;\">\n",
       "                        \n",
       "                      </td>\n",
       "                    </tr>\n",
       "                \n",
       "                  <tr>\n",
       "                    <td>Nodes</td>\n",
       "                      <td>13</td>\n",
       "                      <td>372 Bytes</td>\n",
       "                      <td style=\"text-align: center;\">\n",
       "                        \n",
       "                      </td>\n",
       "                    </tr>\n",
       "                \n",
       "                  <tr>\n",
       "                    <td>Populations</td>\n",
       "                      <td>1</td>\n",
       "                      <td>224 Bytes</td>\n",
       "                      <td style=\"text-align: center;\">\n",
       "                        ✅\n",
       "                      </td>\n",
       "                    </tr>\n",
       "                \n",
       "                  <tr>\n",
       "                    <td>Provenances</td>\n",
       "                      <td>2</td>\n",
       "                      <td>1.7 KiB</td>\n",
       "                      <td style=\"text-align: center;\">\n",
       "                        \n",
       "                      </td>\n",
       "                    </tr>\n",
       "                \n",
       "                  <tr>\n",
       "                    <td>Sites</td>\n",
       "                      <td>5</td>\n",
       "                      <td>141 Bytes</td>\n",
       "                      <td style=\"text-align: center;\">\n",
       "                        \n",
       "                      </td>\n",
       "                    </tr>\n",
       "                \n",
       "                    </tbody>\n",
       "                  </table>\n",
       "                </div>\n",
       "              </div>\n",
       "            </div>\n",
       "            "
      ],
      "text/plain": [
       "<tskit.trees.TreeSequence at 0x178507fa0>"
      ]
     },
     "execution_count": 5,
     "metadata": {},
     "output_type": "execute_result"
    }
   ],
   "source": [
    "ts"
   ]
  },
  {
   "cell_type": "code",
   "execution_count": 6,
   "id": "a4c057d5-46bd-4e79-bb29-870b3f56962c",
   "metadata": {},
   "outputs": [
    {
     "data": {
      "text/html": [
       "\n",
       "            <div>\n",
       "              <style>\n",
       "                .tskit-table thead tr th {text-align: left;padding: 0.5em 0.5em;}\n",
       "                .tskit-table tbody tr td {padding: 0.5em 0.5em;}\n",
       "                .tskit-table tbody tr td:first-of-type {text-align: left;}\n",
       "                .tskit-details-label {vertical-align: top; padding-right:5px;}\n",
       "                .tskit-table-set {display: inline-flex;flex-wrap: wrap;margin: -12px 0 0 -12px;width: calc(100% + 12px);}\n",
       "                .tskit-table-set-table {margin: 12px 0 0 12px;}\n",
       "                details {display: inline-block;}\n",
       "                summary {cursor: pointer; outline: 0; display: list-item;}\n",
       "              </style>\n",
       "              <div class=\"tskit-table-set\">\n",
       "                <div class=\"tskit-table-set-table\">\n",
       "                  <table class=\"tskit-table\">\n",
       "                    <thead>\n",
       "                      <tr>\n",
       "                        <th style=\"padding:0;line-height:21px;\">\n",
       "                          <img style=\"height: 32px;display: inline-block;padding: 3px 5px 3px 0;\" src=\"https://raw.githubusercontent.com/tskit-dev/administrative/main/tskit_logo.svg\"/>\n",
       "                          <a target=\"_blank\" href=\"https://tskit.dev/tskit/docs/latest/python-api.html#the-treesequence-class\"> Tree Sequence </a>\n",
       "                        </th>\n",
       "                      </tr>\n",
       "                    </thead>\n",
       "                    <tbody>\n",
       "                      <tr><td>Trees</td><td>2</td></tr>\n",
       "                      <tr><td>Sequence Length</td><td>200.0</td></tr>\n",
       "                      <tr><td>Time Units</td><td>generations</td></tr>\n",
       "                      <tr><td>Sample Nodes</td><td>4</td></tr>\n",
       "                      <tr><td>Total Size</td><td>3.6 KiB</td></tr>\n",
       "                      <tr>\n",
       "                        <td>Metadata</td><td style=\"text-align: left;\">No Metadata</td></tr>\n",
       "                    </tbody>\n",
       "                  </table>\n",
       "                </div>\n",
       "                <div class=\"tskit-table-set-table\">\n",
       "                  <table class=\"tskit-table\">\n",
       "                    <thead>\n",
       "                      <tr>\n",
       "                        <th style=\"line-height:21px;\">Table</th>\n",
       "                        <th>Rows</th>\n",
       "                        <th>Size</th>\n",
       "                        <th>Has Metadata</th>\n",
       "                      </tr>\n",
       "                    </thead>\n",
       "                    <tbody>\n",
       "                    \n",
       "                  <tr>\n",
       "                    <td>Edges</td>\n",
       "                      <td>10</td>\n",
       "                      <td>328 Bytes</td>\n",
       "                      <td style=\"text-align: center;\">\n",
       "                        \n",
       "                      </td>\n",
       "                    </tr>\n",
       "                \n",
       "                  <tr>\n",
       "                    <td>Individuals</td>\n",
       "                      <td>4</td>\n",
       "                      <td>136 Bytes</td>\n",
       "                      <td style=\"text-align: center;\">\n",
       "                        \n",
       "                      </td>\n",
       "                    </tr>\n",
       "                \n",
       "                  <tr>\n",
       "                    <td>Migrations</td>\n",
       "                      <td>0</td>\n",
       "                      <td>8 Bytes</td>\n",
       "                      <td style=\"text-align: center;\">\n",
       "                        \n",
       "                      </td>\n",
       "                    </tr>\n",
       "                \n",
       "                  <tr>\n",
       "                    <td>Mutations</td>\n",
       "                      <td>5</td>\n",
       "                      <td>201 Bytes</td>\n",
       "                      <td style=\"text-align: center;\">\n",
       "                        \n",
       "                      </td>\n",
       "                    </tr>\n",
       "                \n",
       "                  <tr>\n",
       "                    <td>Nodes</td>\n",
       "                      <td>8</td>\n",
       "                      <td>232 Bytes</td>\n",
       "                      <td style=\"text-align: center;\">\n",
       "                        \n",
       "                      </td>\n",
       "                    </tr>\n",
       "                \n",
       "                  <tr>\n",
       "                    <td>Populations</td>\n",
       "                      <td>1</td>\n",
       "                      <td>224 Bytes</td>\n",
       "                      <td style=\"text-align: center;\">\n",
       "                        ✅\n",
       "                      </td>\n",
       "                    </tr>\n",
       "                \n",
       "                  <tr>\n",
       "                    <td>Provenances</td>\n",
       "                      <td>3</td>\n",
       "                      <td>2.2 KiB</td>\n",
       "                      <td style=\"text-align: center;\">\n",
       "                        \n",
       "                      </td>\n",
       "                    </tr>\n",
       "                \n",
       "                  <tr>\n",
       "                    <td>Sites</td>\n",
       "                      <td>5</td>\n",
       "                      <td>141 Bytes</td>\n",
       "                      <td style=\"text-align: center;\">\n",
       "                        \n",
       "                      </td>\n",
       "                    </tr>\n",
       "                \n",
       "                    </tbody>\n",
       "                  </table>\n",
       "                </div>\n",
       "              </div>\n",
       "            </div>\n",
       "            "
      ],
      "text/plain": [
       "<tskit.trees.TreeSequence at 0x1785551e0>"
      ]
     },
     "execution_count": 6,
     "metadata": {},
     "output_type": "execute_result"
    }
   ],
   "source": [
    "tss"
   ]
  },
  {
   "cell_type": "code",
   "execution_count": 7,
   "id": "b4ccb5ad-9415-4f21-ba60-aaf343628382",
   "metadata": {},
   "outputs": [
    {
     "data": {
      "image/svg+xml": [
       "<svg baseProfile=\"full\" height=\"250\" version=\"1.1\" width=\"510\" xmlns=\"http://www.w3.org/2000/svg\" xmlns:ev=\"http://www.w3.org/2001/xml-events\" xmlns:xlink=\"http://www.w3.org/1999/xlink\"><defs><style type=\"text/css\"><![CDATA[.background path {fill: #808080; fill-opacity: 0}.background path:nth-child(odd) {fill-opacity: .1}.axes {font-size: 14px}.x-axis .tick .lab {font-weight: bold; dominant-baseline: hanging}.axes, .tree {font-size: 14px; text-anchor: middle}.axes line, .edge {stroke: black; fill: none}.axes .ax-skip {stroke-dasharray: 4}.y-axis .grid {stroke: #FAFAFA}.node > .sym {fill: black; stroke: none}.site > .sym {stroke: black}.mut text {fill: red; font-style: italic}.mut.extra text {fill: hotpink}.mut line {fill: none; stroke: none}.mut .sym {fill: none; stroke: red}.mut.extra .sym {stroke: hotpink}.node .mut .sym {stroke-width: 1.5px}.tree text, .tree-sequence text {dominant-baseline: central}.plotbox .lab.lft {text-anchor: end}.plotbox .lab.rgt {text-anchor: start}.tree-sequence {transform: translateX(10px)}]]></style></defs><g class=\"tree-sequence\"><g class=\"axes\"><g class=\"x-axis\"><g class=\"title\" transform=\"translate(268.4 250)\"><text class=\"lab\" text-anchor=\"middle\" transform=\"translate(0 -11)\">Genome position</text></g><line class=\"ax-line\" x1=\"56.8\" x2=\"480\" y1=\"213.2\" y2=\"213.2\" /><g class=\"ticks\"><g class=\"tick\" transform=\"translate(56.8 213.2)\"><line x1=\"0\" x2=\"0\" y1=\"-5\" y2=\"5\" /><g transform=\"translate(0 6)\"><text class=\"lab\">0</text></g></g><g class=\"tick\" transform=\"translate(268.4 213.2)\"><line x1=\"0\" x2=\"0\" y1=\"-5\" y2=\"5\" /><g transform=\"translate(0 6)\"><text class=\"lab\">47</text></g></g><g class=\"tick\" transform=\"translate(480 213.2)\"><line x1=\"0\" x2=\"0\" y1=\"-5\" y2=\"5\" /><g transform=\"translate(0 6)\"><text class=\"lab\">200</text></g></g></g></g><g class=\"y-axis\"><g class=\"title\" transform=\"translate(0 90.7)\"><text class=\"lab\" text-anchor=\"middle\" transform=\"translate(11) rotate(-90)\"> </text></g><line class=\"ax-line\" x1=\"56.8\" x2=\"56.8\" y1=\"171.4\" y2=\"10\" /><g class=\"ticks\"><g class=\"tick\" transform=\"translate(56.8 171.4)\"><line x1=\"0\" x2=\"-5\" y1=\"0\" y2=\"0\" /><g transform=\"translate(-6 0)\"><text class=\"lab\" text-anchor=\"end\">0.00</text></g></g><g class=\"tick\" transform=\"translate(56.8 135.25)\"><line x1=\"0\" x2=\"-5\" y1=\"0\" y2=\"0\" /><g transform=\"translate(-6 0)\"><text class=\"lab\" text-anchor=\"end\">10400.98</text></g></g><g class=\"tick\" transform=\"translate(56.8 99.1)\"><line x1=\"0\" x2=\"-5\" y1=\"0\" y2=\"0\" /><g transform=\"translate(-6 0)\"><text class=\"lab\" text-anchor=\"end\">87564.35</text></g></g><g class=\"tick\" transform=\"translate(56.8 62.95)\"><line x1=\"0\" x2=\"-5\" y1=\"0\" y2=\"0\" /><g transform=\"translate(-6 0)\"><text class=\"lab\" text-anchor=\"end\">96106.40</text></g></g><g class=\"tick\" transform=\"translate(56.8 26.8)\"><line x1=\"0\" x2=\"-5\" y1=\"0\" y2=\"0\" /><g transform=\"translate(-6 0)\"><text class=\"lab\" text-anchor=\"end\">115695.67</text></g></g></g></g></g><g class=\"plotbox trees\"><g class=\"tree t0\" transform=\"translate(56.8 0)\"><g class=\"plotbox\"><g class=\"c2 node n7 p0 root\" transform=\"translate(89.7125 26.8)\"><g class=\"a7 i0 leaf node n0 p0 sample\" transform=\"translate(-48.2625 144.6)\"><path class=\"edge\" d=\"M 0 0 V -144.6 H 48.2625\" /><rect class=\"sym\" height=\"6\" width=\"6\" x=\"-3\" y=\"-3\" /><text class=\"lab\" transform=\"translate(0 11)\">0</text></g><g class=\"a7 c2 m0 m1 node n5 p0 s0 s1\" transform=\"translate(48.2625 72.3)\"><g class=\"a5 i3 leaf node n3 p0 sample\" transform=\"translate(32.175 72.3)\"><path class=\"edge\" d=\"M 0 0 V -72.3 H -32.175\" /><rect class=\"sym\" height=\"6\" width=\"6\" x=\"-3\" y=\"-3\" /><text class=\"lab\" transform=\"translate(0 11)\">3</text></g><g class=\"a5 c2 node n4 p0\" transform=\"translate(-32.175 36.15)\"><g class=\"a4 i1 leaf node n1 p0 sample\" transform=\"translate(-21.45 36.15)\"><path class=\"edge\" d=\"M 0 0 V -36.15 H 21.45\" /><rect class=\"sym\" height=\"6\" width=\"6\" x=\"-3\" y=\"-3\" /><text class=\"lab\" transform=\"translate(0 11)\">1</text></g><g class=\"a4 i2 leaf node n2 p0 sample\" transform=\"translate(21.45 36.15)\"><path class=\"edge\" d=\"M 0 0 V -36.15 H -21.45\" /><rect class=\"sym\" height=\"6\" width=\"6\" x=\"-3\" y=\"-3\" /><text class=\"lab\" transform=\"translate(0 11)\">2</text></g><path class=\"edge\" d=\"M 0 0 V -36.15 H 32.175\" /><circle class=\"sym\" cx=\"0\" cy=\"0\" r=\"3\" /><text class=\"lab lft\" transform=\"translate(-3 -7.0)\">4</text></g><path class=\"edge\" d=\"M 0 0 V -72.3 H -48.2625\" /><g class=\"mut m0 s0\" transform=\"translate(0 -48.2)\"><line x1=\"0\" x2=\"0\" y1=\"0\" y2=\"48.2\" /><path class=\"sym\" d=\"M -3,-3 l 6,6 M -3,3 l 6,-6\" /><text class=\"lab rgt\" transform=\"translate(5 0)\">0</text></g><g class=\"mut m1 s1\" transform=\"translate(0 -24.1)\"><line x1=\"0\" x2=\"0\" y1=\"0\" y2=\"24.1\" /><path class=\"sym\" d=\"M -3,-3 l 6,6 M -3,3 l 6,-6\" /><text class=\"lab rgt\" transform=\"translate(5 0)\">1</text></g><circle class=\"sym\" cx=\"0\" cy=\"0\" r=\"3\" /><text class=\"lab rgt\" transform=\"translate(3 -7.0)\">5</text></g><circle class=\"sym\" cx=\"0\" cy=\"0\" r=\"3\" /><text class=\"lab\" transform=\"translate(0 -11)\">7</text></g></g></g><g class=\"tree t1\" transform=\"translate(268.4 0)\"><g class=\"plotbox\"><g class=\"c2 node n7 p0 root\" transform=\"translate(105.8 26.8)\"><g class=\"a7 c2 m3 m4 node n4 p0 s3 s4\" transform=\"translate(42.9 108.45)\"><g class=\"a4 i1 leaf m2 node n1 p0 s2 sample\" transform=\"translate(-21.45 36.15)\"><path class=\"edge\" d=\"M 0 0 V -36.15 H 21.45\" /><g class=\"mut m2 s2\" transform=\"translate(0 -18.075)\"><line x1=\"0\" x2=\"0\" y1=\"0\" y2=\"18.075\" /><path class=\"sym\" d=\"M -3,-3 l 6,6 M -3,3 l 6,-6\" /><text class=\"lab lft\" transform=\"translate(-5 0)\">2</text></g><rect class=\"sym\" height=\"6\" width=\"6\" x=\"-3\" y=\"-3\" /><text class=\"lab\" transform=\"translate(0 11)\">1</text></g><g class=\"a4 i2 leaf node n2 p0 sample\" transform=\"translate(21.45 36.15)\"><path class=\"edge\" d=\"M 0 0 V -36.15 H -21.45\" /><rect class=\"sym\" height=\"6\" width=\"6\" x=\"-3\" y=\"-3\" /><text class=\"lab\" transform=\"translate(0 11)\">2</text></g><path class=\"edge\" d=\"M 0 0 V -108.45 H -42.9\" /><g class=\"mut m3 s3\" transform=\"translate(0 -72.3)\"><line x1=\"0\" x2=\"0\" y1=\"0\" y2=\"72.3\" /><path class=\"sym\" d=\"M -3,-3 l 6,6 M -3,3 l 6,-6\" /><text class=\"lab rgt\" transform=\"translate(5 0)\">3</text></g><g class=\"mut m4 s4\" transform=\"translate(0 -36.15)\"><line x1=\"0\" x2=\"0\" y1=\"0\" y2=\"36.15\" /><path class=\"sym\" d=\"M -3,-3 l 6,6 M -3,3 l 6,-6\" /><text class=\"lab rgt\" transform=\"translate(5 0)\">4</text></g><circle class=\"sym\" cx=\"0\" cy=\"0\" r=\"3\" /><text class=\"lab rgt\" transform=\"translate(3 -7.0)\">4</text></g><g class=\"a7 c2 node n6 p0\" transform=\"translate(-42.9 36.15)\"><g class=\"a6 i0 leaf node n0 p0 sample\" transform=\"translate(-21.45 108.45)\"><path class=\"edge\" d=\"M 0 0 V -108.45 H 21.45\" /><rect class=\"sym\" height=\"6\" width=\"6\" x=\"-3\" y=\"-3\" /><text class=\"lab\" transform=\"translate(0 11)\">0</text></g><g class=\"a6 i3 leaf node n3 p0 sample\" transform=\"translate(21.45 108.45)\"><path class=\"edge\" d=\"M 0 0 V -108.45 H -21.45\" /><rect class=\"sym\" height=\"6\" width=\"6\" x=\"-3\" y=\"-3\" /><text class=\"lab\" transform=\"translate(0 11)\">3</text></g><path class=\"edge\" d=\"M 0 0 V -36.15 H 42.9\" /><circle class=\"sym\" cx=\"0\" cy=\"0\" r=\"3\" /><text class=\"lab lft\" transform=\"translate(-3 -7.0)\">6</text></g><circle class=\"sym\" cx=\"0\" cy=\"0\" r=\"3\" /><text class=\"lab\" transform=\"translate(0 -11)\">7</text></g></g></g></g></g></svg>"
      ],
      "text/plain": [
       "'<svg baseProfile=\"full\" height=\"250\" version=\"1.1\" width=\"510\" xmlns=\"http://www.w3.org/2000/svg\" xmlns:ev=\"http://www.w3.org/2001/xml-events\" xmlns:xlink=\"http://www.w3.org/1999/xlink\"><defs><style type=\"text/css\"><![CDATA[.background path {fill: #808080; fill-opacity: 0}.background path:nth-child(odd) {fill-opacity: .1}.axes {font-size: 14px}.x-axis .tick .lab {font-weight: bold; dominant-baseline: hanging}.axes, .tree {font-size: 14px; text-anchor: middle}.axes line, .edge {stroke: black; fill: none}.axes .ax-skip {stroke-dasharray: 4}.y-axis .grid {stroke: #FAFAFA}.node > .sym {fill: black; stroke: none}.site > .sym {stroke: black}.mut text {fill: red; font-style: italic}.mut.extra text {fill: hotpink}.mut line {fill: none; stroke: none}.mut .sym {fill: none; stroke: red}.mut.extra .sym {stroke: hotpink}.node .mut .sym {stroke-width: 1.5px}.tree text, .tree-sequence text {dominant-baseline: central}.plotbox .lab.lft {text-anchor: end}.plotbox .lab.rgt {text-anchor: start}.tree-sequence {transform: translateX(10px)}]]></style></defs><g class=\"tree-sequence\"><g class=\"axes\"><g class=\"x-axis\"><g class=\"title\" transform=\"translate(268.4 250)\"><text class=\"lab\" text-anchor=\"middle\" transform=\"translate(0 -11)\">Genome position</text></g><line class=\"ax-line\" x1=\"56.8\" x2=\"480\" y1=\"213.2\" y2=\"213.2\" /><g class=\"ticks\"><g class=\"tick\" transform=\"translate(56.8 213.2)\"><line x1=\"0\" x2=\"0\" y1=\"-5\" y2=\"5\" /><g transform=\"translate(0 6)\"><text class=\"lab\">0</text></g></g><g class=\"tick\" transform=\"translate(268.4 213.2)\"><line x1=\"0\" x2=\"0\" y1=\"-5\" y2=\"5\" /><g transform=\"translate(0 6)\"><text class=\"lab\">47</text></g></g><g class=\"tick\" transform=\"translate(480 213.2)\"><line x1=\"0\" x2=\"0\" y1=\"-5\" y2=\"5\" /><g transform=\"translate(0 6)\"><text class=\"lab\">200</text></g></g></g></g><g class=\"y-axis\"><g class=\"title\" transform=\"translate(0 90.7)\"><text class=\"lab\" text-anchor=\"middle\" transform=\"translate(11) rotate(-90)\"> </text></g><line class=\"ax-line\" x1=\"56.8\" x2=\"56.8\" y1=\"171.4\" y2=\"10\" /><g class=\"ticks\"><g class=\"tick\" transform=\"translate(56.8 171.4)\"><line x1=\"0\" x2=\"-5\" y1=\"0\" y2=\"0\" /><g transform=\"translate(-6 0)\"><text class=\"lab\" text-anchor=\"end\">0.00</text></g></g><g class=\"tick\" transform=\"translate(56.8 135.25)\"><line x1=\"0\" x2=\"-5\" y1=\"0\" y2=\"0\" /><g transform=\"translate(-6 0)\"><text class=\"lab\" text-anchor=\"end\">10400.98</text></g></g><g class=\"tick\" transform=\"translate(56.8 99.1)\"><line x1=\"0\" x2=\"-5\" y1=\"0\" y2=\"0\" /><g transform=\"translate(-6 0)\"><text class=\"lab\" text-anchor=\"end\">87564.35</text></g></g><g class=\"tick\" transform=\"translate(56.8 62.95)\"><line x1=\"0\" x2=\"-5\" y1=\"0\" y2=\"0\" /><g transform=\"translate(-6 0)\"><text class=\"lab\" text-anchor=\"end\">96106.40</text></g></g><g class=\"tick\" transform=\"translate(56.8 26.8)\"><line x1=\"0\" x2=\"-5\" y1=\"0\" y2=\"0\" /><g transform=\"translate(-6 0)\"><text class=\"lab\" text-anchor=\"end\">115695.67</text></g></g></g></g></g><g class=\"plotbox trees\"><g class=\"tree t0\" transform=\"translate(56.8 0)\"><g class=\"plotbox\"><g class=\"c2 node n7 p0 root\" transform=\"translate(89.7125 26.8)\"><g class=\"a7 i0 leaf node n0 p0 sample\" transform=\"translate(-48.2625 144.6)\"><path class=\"edge\" d=\"M 0 0 V -144.6 H 48.2625\" /><rect class=\"sym\" height=\"6\" width=\"6\" x=\"-3\" y=\"-3\" /><text class=\"lab\" transform=\"translate(0 11)\">0</text></g><g class=\"a7 c2 m0 m1 node n5 p0 s0 s1\" transform=\"translate(48.2625 72.3)\"><g class=\"a5 i3 leaf node n3 p0 sample\" transform=\"translate(32.175 72.3)\"><path class=\"edge\" d=\"M 0 0 V -72.3 H -32.175\" /><rect class=\"sym\" height=\"6\" width=\"6\" x=\"-3\" y=\"-3\" /><text class=\"lab\" transform=\"translate(0 11)\">3</text></g><g class=\"a5 c2 node n4 p0\" transform=\"translate(-32.175 36.15)\"><g class=\"a4 i1 leaf node n1 p0 sample\" transform=\"translate(-21.45 36.15)\"><path class=\"edge\" d=\"M 0 0 V -36.15 H 21.45\" /><rect class=\"sym\" height=\"6\" width=\"6\" x=\"-3\" y=\"-3\" /><text class=\"lab\" transform=\"translate(0 11)\">1</text></g><g class=\"a4 i2 leaf node n2 p0 sample\" transform=\"translate(21.45 36.15)\"><path class=\"edge\" d=\"M 0 0 V -36.15 H -21.45\" /><rect class=\"sym\" height=\"6\" width=\"6\" x=\"-3\" y=\"-3\" /><text class=\"lab\" transform=\"translate(0 11)\">2</text></g><path class=\"edge\" d=\"M 0 0 V -36.15 H 32.175\" /><circle class=\"sym\" cx=\"0\" cy=\"0\" r=\"3\" /><text class=\"lab lft\" transform=\"translate(-3 -7.0)\">4</text></g><path class=\"edge\" d=\"M 0 0 V -72.3 H -48.2625\" /><g class=\"mut m0 s0\" transform=\"translate(0 -48.2)\"><line x1=\"0\" x2=\"0\" y1=\"0\" y2=\"48.2\" /><path class=\"sym\" d=\"M -3,-3 l 6,6 M -3,3 l 6,-6\" /><text class=\"lab rgt\" transform=\"translate(5 0)\">0</text></g><g class=\"mut m1 s1\" transform=\"translate(0 -24.1)\"><line x1=\"0\" x2=\"0\" y1=\"0\" y2=\"24.1\" /><path class=\"sym\" d=\"M -3,-3 l 6,6 M -3,3 l 6,-6\" /><text class=\"lab rgt\" transform=\"translate(5 0)\">1</text></g><circle class=\"sym\" cx=\"0\" cy=\"0\" r=\"3\" /><text class=\"lab rgt\" transform=\"translate(3 -7.0)\">5</text></g><circle class=\"sym\" cx=\"0\" cy=\"0\" r=\"3\" /><text class=\"lab\" transform=\"translate(0 -11)\">7</text></g></g></g><g class=\"tree t1\" transform=\"translate(268.4 0)\"><g class=\"plotbox\"><g class=\"c2 node n7 p0 root\" transform=\"translate(105.8 26.8)\"><g class=\"a7 c2 m3 m4 node n4 p0 s3 s4\" transform=\"translate(42.9 108.45)\"><g class=\"a4 i1 leaf m2 node n1 p0 s2 sample\" transform=\"translate(-21.45 36.15)\"><path class=\"edge\" d=\"M 0 0 V -36.15 H 21.45\" /><g class=\"mut m2 s2\" transform=\"translate(0 -18.075)\"><line x1=\"0\" x2=\"0\" y1=\"0\" y2=\"18.075\" /><path class=\"sym\" d=\"M -3,-3 l 6,6 M -3,3 l 6,-6\" /><text class=\"lab lft\" transform=\"translate(-5 0)\">2</text></g><rect class=\"sym\" height=\"6\" width=\"6\" x=\"-3\" y=\"-3\" /><text class=\"lab\" transform=\"translate(0 11)\">1</text></g><g class=\"a4 i2 leaf node n2 p0 sample\" transform=\"translate(21.45 36.15)\"><path class=\"edge\" d=\"M 0 0 V -36.15 H -21.45\" /><rect class=\"sym\" height=\"6\" width=\"6\" x=\"-3\" y=\"-3\" /><text class=\"lab\" transform=\"translate(0 11)\">2</text></g><path class=\"edge\" d=\"M 0 0 V -108.45 H -42.9\" /><g class=\"mut m3 s3\" transform=\"translate(0 -72.3)\"><line x1=\"0\" x2=\"0\" y1=\"0\" y2=\"72.3\" /><path class=\"sym\" d=\"M -3,-3 l 6,6 M -3,3 l 6,-6\" /><text class=\"lab rgt\" transform=\"translate(5 0)\">3</text></g><g class=\"mut m4 s4\" transform=\"translate(0 -36.15)\"><line x1=\"0\" x2=\"0\" y1=\"0\" y2=\"36.15\" /><path class=\"sym\" d=\"M -3,-3 l 6,6 M -3,3 l 6,-6\" /><text class=\"lab rgt\" transform=\"translate(5 0)\">4</text></g><circle class=\"sym\" cx=\"0\" cy=\"0\" r=\"3\" /><text class=\"lab rgt\" transform=\"translate(3 -7.0)\">4</text></g><g class=\"a7 c2 node n6 p0\" transform=\"translate(-42.9 36.15)\"><g class=\"a6 i0 leaf node n0 p0 sample\" transform=\"translate(-21.45 108.45)\"><path class=\"edge\" d=\"M 0 0 V -108.45 H 21.45\" /><rect class=\"sym\" height=\"6\" width=\"6\" x=\"-3\" y=\"-3\" /><text class=\"lab\" transform=\"translate(0 11)\">0</text></g><g class=\"a6 i3 leaf node n3 p0 sample\" transform=\"translate(21.45 108.45)\"><path class=\"edge\" d=\"M 0 0 V -108.45 H -21.45\" /><rect class=\"sym\" height=\"6\" width=\"6\" x=\"-3\" y=\"-3\" /><text class=\"lab\" transform=\"translate(0 11)\">3</text></g><path class=\"edge\" d=\"M 0 0 V -36.15 H 42.9\" /><circle class=\"sym\" cx=\"0\" cy=\"0\" r=\"3\" /><text class=\"lab lft\" transform=\"translate(-3 -7.0)\">6</text></g><circle class=\"sym\" cx=\"0\" cy=\"0\" r=\"3\" /><text class=\"lab\" transform=\"translate(0 -11)\">7</text></g></g></g></g></g></svg>'"
      ]
     },
     "metadata": {},
     "output_type": "display_data"
    }
   ],
   "source": [
    "svg_size = (500, 250) # Height and width for the SVG: optional but useful for this notebook\n",
    "svg_string = tss.draw_svg(\n",
    "    path=\"example_ts.svg\",\n",
    "    size=svg_size,\n",
    "    y_axis=True, y_label=\" \",  # optional: show a time scale on the left\n",
    "    time_scale=\"rank\", x_scale=\"treewise\", canvas_size=(svg_size[0]+10, svg_size[1]), style=\".tree-sequence {transform: translateX(10px)}\"# Force same axis settings as the text view\n",
    ")\n",
    "display(svg_string)"
   ]
  },
  {
   "cell_type": "code",
   "execution_count": 8,
   "id": "e96e7c5b-10e9-4495-a3b4-602fa3db0eaa",
   "metadata": {},
   "outputs": [
    {
     "data": {
      "text/html": [
       "\n",
       "        <div>\n",
       "            <style scoped=\"\">\n",
       "                .tskit-table tbody tr th:only-of-type {vertical-align: middle;}\n",
       "                .tskit-table tbody tr th {vertical-align: top;}\n",
       "                .tskit-table tbody td {text-align: right;padding: 0.5em 0.5em;}\n",
       "                .tskit-table tbody th {padding: 0.5em 0.5em;}\n",
       "            </style>\n",
       "            <table border=\"1\" class=\"tskit-table\">\n",
       "                <thead>\n",
       "                    <tr>\n",
       "                        <th>id</th><th>left</th><th>right</th><th>parent</th><th>child</th><th>metadata</th>\n",
       "                    </tr>\n",
       "                </thead>\n",
       "                <tbody>\n",
       "                    <tr><td>0</td><td>0</td><td>200</td><td>4</td><td>1</td><td></td></tr>\n",
       "<tr><td>1</td><td>0</td><td>200</td><td>4</td><td>2</td><td></td></tr>\n",
       "<tr><td>2</td><td>0</td><td>47</td><td>5</td><td>3</td><td></td></tr>\n",
       "<tr><td>3</td><td>0</td><td>47</td><td>5</td><td>4</td><td></td></tr>\n",
       "<tr><td>4</td><td>47</td><td>200</td><td>6</td><td>0</td><td></td></tr>\n",
       "<tr><td>5</td><td>47</td><td>200</td><td>6</td><td>3</td><td></td></tr>\n",
       "<tr><td>6</td><td>0</td><td>47</td><td>7</td><td>0</td><td></td></tr>\n",
       "<tr><td>7</td><td>47</td><td>200</td><td>7</td><td>4</td><td></td></tr>\n",
       "<tr><td>8</td><td>0</td><td>47</td><td>7</td><td>5</td><td></td></tr>\n",
       "<tr><td>9</td><td>47</td><td>200</td><td>7</td><td>6</td><td></td></tr>\n",
       "\n",
       "                </tbody>\n",
       "            </table>\n",
       "        </div>\n",
       "    "
      ],
      "text/plain": [
       "<tskit.tables.EdgeTable at 0x178554e80>"
      ]
     },
     "execution_count": 8,
     "metadata": {},
     "output_type": "execute_result"
    }
   ],
   "source": [
    "tss.tables.edges"
   ]
  },
  {
   "cell_type": "code",
   "execution_count": 9,
   "id": "dd2608b3-9b90-4dd2-af84-24069b65e5de",
   "metadata": {},
   "outputs": [
    {
     "data": {
      "text/html": [
       "\n",
       "        <div>\n",
       "            <style scoped=\"\">\n",
       "                .tskit-table tbody tr th:only-of-type {vertical-align: middle;}\n",
       "                .tskit-table tbody tr th {vertical-align: top;}\n",
       "                .tskit-table tbody td {text-align: right;padding: 0.5em 0.5em;}\n",
       "                .tskit-table tbody th {padding: 0.5em 0.5em;}\n",
       "            </style>\n",
       "            <table border=\"1\" class=\"tskit-table\">\n",
       "                <thead>\n",
       "                    <tr>\n",
       "                        <th>id</th><th>flags</th><th>population</th><th>individual</th><th>time</th><th>metadata</th>\n",
       "                    </tr>\n",
       "                </thead>\n",
       "                <tbody>\n",
       "                    <tr><td>0</td><td>1</td><td>0</td><td>0</td><td>0.00000000</td><td></td></tr>\n",
       "<tr><td>1</td><td>1</td><td>0</td><td>1</td><td>0.00000000</td><td></td></tr>\n",
       "<tr><td>2</td><td>1</td><td>0</td><td>2</td><td>0.00000000</td><td></td></tr>\n",
       "<tr><td>3</td><td>1</td><td>0</td><td>3</td><td>0.00000000</td><td></td></tr>\n",
       "<tr><td>4</td><td>0</td><td>0</td><td>-1</td><td>10400.97834031</td><td></td></tr>\n",
       "<tr><td>5</td><td>0</td><td>0</td><td>-1</td><td>87564.35114390</td><td></td></tr>\n",
       "<tr><td>6</td><td>0</td><td>0</td><td>-1</td><td>96106.40092689</td><td></td></tr>\n",
       "<tr><td>7</td><td>0</td><td>0</td><td>-1</td><td>115695.67326147</td><td></td></tr>\n",
       "\n",
       "                </tbody>\n",
       "            </table>\n",
       "        </div>\n",
       "    "
      ],
      "text/plain": [
       "<tskit.tables.NodeTable at 0x1785950c0>"
      ]
     },
     "execution_count": 9,
     "metadata": {},
     "output_type": "execute_result"
    }
   ],
   "source": [
    "tss.tables.nodes"
   ]
  },
  {
   "cell_type": "code",
   "execution_count": 10,
   "id": "d7cd331e-a4a2-4133-bf62-186953c0a399",
   "metadata": {},
   "outputs": [
    {
     "data": {
      "text/html": [
       "\n",
       "        <div>\n",
       "            <style scoped=\"\">\n",
       "                .tskit-table tbody tr th:only-of-type {vertical-align: middle;}\n",
       "                .tskit-table tbody tr th {vertical-align: top;}\n",
       "                .tskit-table tbody td {text-align: right;padding: 0.5em 0.5em;}\n",
       "                .tskit-table tbody th {padding: 0.5em 0.5em;}\n",
       "            </style>\n",
       "            <table border=\"1\" class=\"tskit-table\">\n",
       "                <thead>\n",
       "                    <tr>\n",
       "                        <th>id</th><th>position</th><th>ancestral_state</th><th>metadata</th>\n",
       "                    </tr>\n",
       "                </thead>\n",
       "                <tbody>\n",
       "                    <tr><td>0</td><td>1</td><td>T</td><td></td></tr>\n",
       "<tr><td>1</td><td>21</td><td>G</td><td></td></tr>\n",
       "<tr><td>2</td><td>63</td><td>T</td><td></td></tr>\n",
       "<tr><td>3</td><td>130</td><td>G</td><td></td></tr>\n",
       "<tr><td>4</td><td>149</td><td>T</td><td></td></tr>\n",
       "\n",
       "                </tbody>\n",
       "            </table>\n",
       "        </div>\n",
       "    "
      ],
      "text/plain": [
       "<tskit.tables.SiteTable at 0x1785953c0>"
      ]
     },
     "execution_count": 10,
     "metadata": {},
     "output_type": "execute_result"
    }
   ],
   "source": [
    "tss.tables.sites"
   ]
  },
  {
   "cell_type": "code",
   "execution_count": 11,
   "id": "d1653ce9-3255-4296-9e68-bf571ae69d3a",
   "metadata": {},
   "outputs": [
    {
     "data": {
      "text/html": [
       "\n",
       "        <div>\n",
       "            <style scoped=\"\">\n",
       "                .tskit-table tbody tr th:only-of-type {vertical-align: middle;}\n",
       "                .tskit-table tbody tr th {vertical-align: top;}\n",
       "                .tskit-table tbody td {text-align: right;padding: 0.5em 0.5em;}\n",
       "                .tskit-table tbody th {padding: 0.5em 0.5em;}\n",
       "            </style>\n",
       "            <table border=\"1\" class=\"tskit-table\">\n",
       "                <thead>\n",
       "                    <tr>\n",
       "                        <th>id</th><th>site</th><th>node</th><th>time</th><th>derived_state</th><th>parent</th><th>metadata</th>\n",
       "                    </tr>\n",
       "                </thead>\n",
       "                <tbody>\n",
       "                    <tr><td>0</td><td>0</td><td>5</td><td>95764.69873733</td><td>C</td><td>-1</td><td></td></tr>\n",
       "<tr><td>1</td><td>1</td><td>5</td><td>98781.54806245</td><td>T</td><td>-1</td><td></td></tr>\n",
       "<tr><td>2</td><td>2</td><td>1</td><td>1359.48373362</td><td>G</td><td>-1</td><td></td></tr>\n",
       "<tr><td>3</td><td>3</td><td>4</td><td>81679.72997120</td><td>T</td><td>-1</td><td></td></tr>\n",
       "<tr><td>4</td><td>4</td><td>4</td><td>39253.99752936</td><td>G</td><td>-1</td><td></td></tr>\n",
       "\n",
       "                </tbody>\n",
       "            </table>\n",
       "        </div>\n",
       "    "
      ],
      "text/plain": [
       "<tskit.tables.MutationTable at 0x178595690>"
      ]
     },
     "execution_count": 11,
     "metadata": {},
     "output_type": "execute_result"
    }
   ],
   "source": [
    "tss.tables.mutations"
   ]
  },
  {
   "cell_type": "code",
   "execution_count": 12,
   "id": "7c3e8774-d969-45c4-a45e-143087937e61",
   "metadata": {},
   "outputs": [
    {
     "data": {
      "text/plain": [
       "array([[0, 1, 1, 1],\n",
       "       [0, 1, 1, 1],\n",
       "       [0, 1, 0, 0],\n",
       "       [0, 1, 1, 0],\n",
       "       [0, 1, 1, 0]], dtype=int32)"
      ]
     },
     "execution_count": 12,
     "metadata": {},
     "output_type": "execute_result"
    }
   ],
   "source": [
    "tss.genotype_matrix()"
   ]
  },
  {
   "cell_type": "code",
   "execution_count": 13,
   "id": "2cc215d7-6044-4bc5-9902-02527fb057b2",
   "metadata": {},
   "outputs": [
    {
     "data": {
      "text/plain": [
       "PopulationSplit(time=100000, derived=['A', 'B'], ancestral='C')"
      ]
     },
     "execution_count": 13,
     "metadata": {},
     "output_type": "execute_result"
    }
   ],
   "source": [
    "demography = msprime.Demography()\n",
    "demography.add_population(name=\"A\", initial_size=10_000)\n",
    "demography.add_population(name=\"B\", initial_size=100)\n",
    "demography.add_population(name=\"C\", initial_size=100_000)\n",
    "demography.add_population_split(time=100_000, derived=[\"A\", \"B\"], ancestral=\"C\")"
   ]
  },
  {
   "cell_type": "code",
   "execution_count": 14,
   "id": "e186c39e-4cb2-403b-b75b-e4751dda25fb",
   "metadata": {},
   "outputs": [],
   "source": [
    "ts1 = msprime.sim_ancestry(samples={\"A\":4}, ploidy=1, demography=demography, sequence_length=50, recombination_rate=1e-6, random_seed=123)"
   ]
  },
  {
   "cell_type": "code",
   "execution_count": 15,
   "id": "604d6ddb-2f75-44cc-8288-ec8303a55da9",
   "metadata": {},
   "outputs": [],
   "source": [
    "ts2 = msprime.sim_ancestry(samples={\"B\":4}, ploidy=1, demography=demography, sequence_length=50, recombination_rate=1e-6, random_seed=1)"
   ]
  },
  {
   "cell_type": "code",
   "execution_count": 16,
   "id": "65769280-3bf3-496b-b6b4-ed48b68c064d",
   "metadata": {},
   "outputs": [
    {
     "data": {
      "text/html": [
       "\n",
       "            <div>\n",
       "              <style>\n",
       "                .tskit-table thead tr th {text-align: left;padding: 0.5em 0.5em;}\n",
       "                .tskit-table tbody tr td {padding: 0.5em 0.5em;}\n",
       "                .tskit-table tbody tr td:first-of-type {text-align: left;}\n",
       "                .tskit-details-label {vertical-align: top; padding-right:5px;}\n",
       "                .tskit-table-set {display: inline-flex;flex-wrap: wrap;margin: -12px 0 0 -12px;width: calc(100% + 12px);}\n",
       "                .tskit-table-set-table {margin: 12px 0 0 12px;}\n",
       "                details {display: inline-block;}\n",
       "                summary {cursor: pointer; outline: 0; display: list-item;}\n",
       "              </style>\n",
       "              <div class=\"tskit-table-set\">\n",
       "                <div class=\"tskit-table-set-table\">\n",
       "                  <table class=\"tskit-table\">\n",
       "                    <thead>\n",
       "                      <tr>\n",
       "                        <th style=\"padding:0;line-height:21px;\">\n",
       "                          <img style=\"height: 32px;display: inline-block;padding: 3px 5px 3px 0;\" src=\"https://raw.githubusercontent.com/tskit-dev/administrative/main/tskit_logo.svg\"/>\n",
       "                          <a target=\"_blank\" href=\"https://tskit.dev/tskit/docs/latest/python-api.html#the-treesequence-class\"> Tree Sequence </a>\n",
       "                        </th>\n",
       "                      </tr>\n",
       "                    </thead>\n",
       "                    <tbody>\n",
       "                      <tr><td>Trees</td><td>2</td></tr>\n",
       "                      <tr><td>Sequence Length</td><td>50.0</td></tr>\n",
       "                      <tr><td>Time Units</td><td>generations</td></tr>\n",
       "                      <tr><td>Sample Nodes</td><td>4</td></tr>\n",
       "                      <tr><td>Total Size</td><td>2.8 KiB</td></tr>\n",
       "                      <tr>\n",
       "                        <td>Metadata</td><td style=\"text-align: left;\">No Metadata</td></tr>\n",
       "                    </tbody>\n",
       "                  </table>\n",
       "                </div>\n",
       "                <div class=\"tskit-table-set-table\">\n",
       "                  <table class=\"tskit-table\">\n",
       "                    <thead>\n",
       "                      <tr>\n",
       "                        <th style=\"line-height:21px;\">Table</th>\n",
       "                        <th>Rows</th>\n",
       "                        <th>Size</th>\n",
       "                        <th>Has Metadata</th>\n",
       "                      </tr>\n",
       "                    </thead>\n",
       "                    <tbody>\n",
       "                    \n",
       "                  <tr>\n",
       "                    <td>Edges</td>\n",
       "                      <td>10</td>\n",
       "                      <td>328 Bytes</td>\n",
       "                      <td style=\"text-align: center;\">\n",
       "                        \n",
       "                      </td>\n",
       "                    </tr>\n",
       "                \n",
       "                  <tr>\n",
       "                    <td>Individuals</td>\n",
       "                      <td>4</td>\n",
       "                      <td>136 Bytes</td>\n",
       "                      <td style=\"text-align: center;\">\n",
       "                        \n",
       "                      </td>\n",
       "                    </tr>\n",
       "                \n",
       "                  <tr>\n",
       "                    <td>Migrations</td>\n",
       "                      <td>0</td>\n",
       "                      <td>8 Bytes</td>\n",
       "                      <td style=\"text-align: center;\">\n",
       "                        \n",
       "                      </td>\n",
       "                    </tr>\n",
       "                \n",
       "                  <tr>\n",
       "                    <td>Mutations</td>\n",
       "                      <td>0</td>\n",
       "                      <td>16 Bytes</td>\n",
       "                      <td style=\"text-align: center;\">\n",
       "                        \n",
       "                      </td>\n",
       "                    </tr>\n",
       "                \n",
       "                  <tr>\n",
       "                    <td>Nodes</td>\n",
       "                      <td>8</td>\n",
       "                      <td>232 Bytes</td>\n",
       "                      <td style=\"text-align: center;\">\n",
       "                        \n",
       "                      </td>\n",
       "                    </tr>\n",
       "                \n",
       "                  <tr>\n",
       "                    <td>Populations</td>\n",
       "                      <td>3</td>\n",
       "                      <td>294 Bytes</td>\n",
       "                      <td style=\"text-align: center;\">\n",
       "                        ✅\n",
       "                      </td>\n",
       "                    </tr>\n",
       "                \n",
       "                  <tr>\n",
       "                    <td>Provenances</td>\n",
       "                      <td>1</td>\n",
       "                      <td>1.7 KiB</td>\n",
       "                      <td style=\"text-align: center;\">\n",
       "                        \n",
       "                      </td>\n",
       "                    </tr>\n",
       "                \n",
       "                  <tr>\n",
       "                    <td>Sites</td>\n",
       "                      <td>0</td>\n",
       "                      <td>16 Bytes</td>\n",
       "                      <td style=\"text-align: center;\">\n",
       "                        \n",
       "                      </td>\n",
       "                    </tr>\n",
       "                \n",
       "                    </tbody>\n",
       "                  </table>\n",
       "                </div>\n",
       "              </div>\n",
       "            </div>\n",
       "            "
      ],
      "text/plain": [
       "<tskit.trees.TreeSequence at 0x1785954e0>"
      ]
     },
     "execution_count": 16,
     "metadata": {},
     "output_type": "execute_result"
    }
   ],
   "source": [
    "ts1"
   ]
  },
  {
   "cell_type": "code",
   "execution_count": 17,
   "id": "c1472f6e-0081-4326-a6f7-42e4ce91599f",
   "metadata": {},
   "outputs": [
    {
     "data": {
      "text/html": [
       "\n",
       "            <div>\n",
       "              <style>\n",
       "                .tskit-table thead tr th {text-align: left;padding: 0.5em 0.5em;}\n",
       "                .tskit-table tbody tr td {padding: 0.5em 0.5em;}\n",
       "                .tskit-table tbody tr td:first-of-type {text-align: left;}\n",
       "                .tskit-details-label {vertical-align: top; padding-right:5px;}\n",
       "                .tskit-table-set {display: inline-flex;flex-wrap: wrap;margin: -12px 0 0 -12px;width: calc(100% + 12px);}\n",
       "                .tskit-table-set-table {margin: 12px 0 0 12px;}\n",
       "                details {display: inline-block;}\n",
       "                summary {cursor: pointer; outline: 0; display: list-item;}\n",
       "              </style>\n",
       "              <div class=\"tskit-table-set\">\n",
       "                <div class=\"tskit-table-set-table\">\n",
       "                  <table class=\"tskit-table\">\n",
       "                    <thead>\n",
       "                      <tr>\n",
       "                        <th style=\"padding:0;line-height:21px;\">\n",
       "                          <img style=\"height: 32px;display: inline-block;padding: 3px 5px 3px 0;\" src=\"https://raw.githubusercontent.com/tskit-dev/administrative/main/tskit_logo.svg\"/>\n",
       "                          <a target=\"_blank\" href=\"https://tskit.dev/tskit/docs/latest/python-api.html#the-treesequence-class\"> Tree Sequence </a>\n",
       "                        </th>\n",
       "                      </tr>\n",
       "                    </thead>\n",
       "                    <tbody>\n",
       "                      <tr><td>Trees</td><td>2</td></tr>\n",
       "                      <tr><td>Sequence Length</td><td>50.0</td></tr>\n",
       "                      <tr><td>Time Units</td><td>generations</td></tr>\n",
       "                      <tr><td>Sample Nodes</td><td>4</td></tr>\n",
       "                      <tr><td>Total Size</td><td>2.7 KiB</td></tr>\n",
       "                      <tr>\n",
       "                        <td>Metadata</td><td style=\"text-align: left;\">No Metadata</td></tr>\n",
       "                    </tbody>\n",
       "                  </table>\n",
       "                </div>\n",
       "                <div class=\"tskit-table-set-table\">\n",
       "                  <table class=\"tskit-table\">\n",
       "                    <thead>\n",
       "                      <tr>\n",
       "                        <th style=\"line-height:21px;\">Table</th>\n",
       "                        <th>Rows</th>\n",
       "                        <th>Size</th>\n",
       "                        <th>Has Metadata</th>\n",
       "                      </tr>\n",
       "                    </thead>\n",
       "                    <tbody>\n",
       "                    \n",
       "                  <tr>\n",
       "                    <td>Edges</td>\n",
       "                      <td>9</td>\n",
       "                      <td>296 Bytes</td>\n",
       "                      <td style=\"text-align: center;\">\n",
       "                        \n",
       "                      </td>\n",
       "                    </tr>\n",
       "                \n",
       "                  <tr>\n",
       "                    <td>Individuals</td>\n",
       "                      <td>4</td>\n",
       "                      <td>136 Bytes</td>\n",
       "                      <td style=\"text-align: center;\">\n",
       "                        \n",
       "                      </td>\n",
       "                    </tr>\n",
       "                \n",
       "                  <tr>\n",
       "                    <td>Migrations</td>\n",
       "                      <td>0</td>\n",
       "                      <td>8 Bytes</td>\n",
       "                      <td style=\"text-align: center;\">\n",
       "                        \n",
       "                      </td>\n",
       "                    </tr>\n",
       "                \n",
       "                  <tr>\n",
       "                    <td>Mutations</td>\n",
       "                      <td>0</td>\n",
       "                      <td>16 Bytes</td>\n",
       "                      <td style=\"text-align: center;\">\n",
       "                        \n",
       "                      </td>\n",
       "                    </tr>\n",
       "                \n",
       "                  <tr>\n",
       "                    <td>Nodes</td>\n",
       "                      <td>8</td>\n",
       "                      <td>232 Bytes</td>\n",
       "                      <td style=\"text-align: center;\">\n",
       "                        \n",
       "                      </td>\n",
       "                    </tr>\n",
       "                \n",
       "                  <tr>\n",
       "                    <td>Populations</td>\n",
       "                      <td>3</td>\n",
       "                      <td>294 Bytes</td>\n",
       "                      <td style=\"text-align: center;\">\n",
       "                        ✅\n",
       "                      </td>\n",
       "                    </tr>\n",
       "                \n",
       "                  <tr>\n",
       "                    <td>Provenances</td>\n",
       "                      <td>1</td>\n",
       "                      <td>1.7 KiB</td>\n",
       "                      <td style=\"text-align: center;\">\n",
       "                        \n",
       "                      </td>\n",
       "                    </tr>\n",
       "                \n",
       "                  <tr>\n",
       "                    <td>Sites</td>\n",
       "                      <td>0</td>\n",
       "                      <td>16 Bytes</td>\n",
       "                      <td style=\"text-align: center;\">\n",
       "                        \n",
       "                      </td>\n",
       "                    </tr>\n",
       "                \n",
       "                    </tbody>\n",
       "                  </table>\n",
       "                </div>\n",
       "              </div>\n",
       "            </div>\n",
       "            "
      ],
      "text/plain": [
       "<tskit.trees.TreeSequence at 0x178595ab0>"
      ]
     },
     "execution_count": 17,
     "metadata": {},
     "output_type": "execute_result"
    }
   ],
   "source": [
    "ts2"
   ]
  },
  {
   "cell_type": "code",
   "execution_count": 18,
   "id": "4b6f0abf-6e0f-4906-9402-ed4b57997e52",
   "metadata": {},
   "outputs": [
    {
     "data": {
      "image/svg+xml": [
       "<svg baseProfile=\"full\" height=\"300\" version=\"1.1\" width=\"510\" xmlns=\"http://www.w3.org/2000/svg\" xmlns:ev=\"http://www.w3.org/2001/xml-events\" xmlns:xlink=\"http://www.w3.org/1999/xlink\"><defs><style type=\"text/css\"><![CDATA[.background path {fill: #808080; fill-opacity: 0}.background path:nth-child(odd) {fill-opacity: .1}.axes {font-size: 14px}.x-axis .tick .lab {font-weight: bold; dominant-baseline: hanging}.axes, .tree {font-size: 14px; text-anchor: middle}.axes line, .edge {stroke: black; fill: none}.axes .ax-skip {stroke-dasharray: 4}.y-axis .grid {stroke: #FAFAFA}.node > .sym {fill: black; stroke: none}.site > .sym {stroke: black}.mut text {fill: red; font-style: italic}.mut.extra text {fill: hotpink}.mut line {fill: none; stroke: none}.mut .sym {fill: none; stroke: red}.mut.extra .sym {stroke: hotpink}.node .mut .sym {stroke-width: 1.5px}.tree text, .tree-sequence text {dominant-baseline: central}.plotbox .lab.lft {text-anchor: end}.plotbox .lab.rgt {text-anchor: start}.tree-sequence {transform: translateX(10px)}]]></style></defs><g class=\"tree-sequence\"><g class=\"axes\"><g class=\"x-axis\"><g class=\"title\" transform=\"translate(268.4 300)\"><text class=\"lab\" text-anchor=\"middle\" transform=\"translate(0 -11)\">Genome position</text></g><line class=\"ax-line\" x1=\"56.8\" x2=\"480\" y1=\"263.2\" y2=\"263.2\" /><g class=\"ticks\"><g class=\"tick\" transform=\"translate(56.8 263.2)\"><line x1=\"0\" x2=\"0\" y1=\"-5\" y2=\"5\" /><g transform=\"translate(0 6)\"><text class=\"lab\">0</text></g></g><g class=\"tick\" transform=\"translate(268.4 263.2)\"><line x1=\"0\" x2=\"0\" y1=\"-5\" y2=\"5\" /><g transform=\"translate(0 6)\"><text class=\"lab\">12</text></g></g><g class=\"tick\" transform=\"translate(480 263.2)\"><line x1=\"0\" x2=\"0\" y1=\"-5\" y2=\"5\" /><g transform=\"translate(0 6)\"><text class=\"lab\">50</text></g></g></g></g><g class=\"y-axis\"><g class=\"title\" transform=\"translate(0 115.7)\"><text class=\"lab\" text-anchor=\"middle\" transform=\"translate(11) rotate(-90)\"> </text></g><line class=\"ax-line\" x1=\"56.8\" x2=\"56.8\" y1=\"221.4\" y2=\"10\" /><g class=\"ticks\"><g class=\"tick\" transform=\"translate(56.8 221.4)\"><line x1=\"0\" x2=\"-5\" y1=\"0\" y2=\"0\" /><g transform=\"translate(-6 0)\"><text class=\"lab\" text-anchor=\"end\">0.00</text></g></g><g class=\"tick\" transform=\"translate(56.8 172.75)\"><line x1=\"0\" x2=\"-5\" y1=\"0\" y2=\"0\" /><g transform=\"translate(-6 0)\"><text class=\"lab\" text-anchor=\"end\">2080.20</text></g></g><g class=\"tick\" transform=\"translate(56.8 124.1)\"><line x1=\"0\" x2=\"-5\" y1=\"0\" y2=\"0\" /><g transform=\"translate(-6 0)\"><text class=\"lab\" text-anchor=\"end\">17694.55</text></g></g><g class=\"tick\" transform=\"translate(56.8 75.45)\"><line x1=\"0\" x2=\"-5\" y1=\"0\" y2=\"0\" /><g transform=\"translate(-6 0)\"><text class=\"lab\" text-anchor=\"end\">19402.96</text></g></g><g class=\"tick\" transform=\"translate(56.8 26.8)\"><line x1=\"0\" x2=\"-5\" y1=\"0\" y2=\"0\" /><g transform=\"translate(-6 0)\"><text class=\"lab\" text-anchor=\"end\">23320.81</text></g></g></g></g></g><g class=\"plotbox trees\"><g class=\"tree t0\" transform=\"translate(56.8 0)\"><g class=\"plotbox\"><g class=\"c2 node n7 p0 root\" transform=\"translate(89.7125 26.8)\"><g class=\"a7 i0 leaf node n0 p0 sample\" transform=\"translate(-48.2625 194.6)\"><path class=\"edge\" d=\"M 0 0 V -194.6 H 48.2625\" /><rect class=\"sym\" height=\"6\" width=\"6\" x=\"-3\" y=\"-3\" /><text class=\"lab\" transform=\"translate(0 11)\">0</text></g><g class=\"a7 c2 node n5 p0\" transform=\"translate(48.2625 97.3)\"><g class=\"a5 i3 leaf node n3 p0 sample\" transform=\"translate(32.175 97.3)\"><path class=\"edge\" d=\"M 0 0 V -97.3 H -32.175\" /><rect class=\"sym\" height=\"6\" width=\"6\" x=\"-3\" y=\"-3\" /><text class=\"lab\" transform=\"translate(0 11)\">3</text></g><g class=\"a5 c2 node n4 p0\" transform=\"translate(-32.175 48.65)\"><g class=\"a4 i1 leaf node n1 p0 sample\" transform=\"translate(-21.45 48.65)\"><path class=\"edge\" d=\"M 0 0 V -48.65 H 21.45\" /><rect class=\"sym\" height=\"6\" width=\"6\" x=\"-3\" y=\"-3\" /><text class=\"lab\" transform=\"translate(0 11)\">1</text></g><g class=\"a4 i2 leaf node n2 p0 sample\" transform=\"translate(21.45 48.65)\"><path class=\"edge\" d=\"M 0 0 V -48.65 H -21.45\" /><rect class=\"sym\" height=\"6\" width=\"6\" x=\"-3\" y=\"-3\" /><text class=\"lab\" transform=\"translate(0 11)\">2</text></g><path class=\"edge\" d=\"M 0 0 V -48.65 H 32.175\" /><circle class=\"sym\" cx=\"0\" cy=\"0\" r=\"3\" /><text class=\"lab lft\" transform=\"translate(-3 -7.0)\">4</text></g><path class=\"edge\" d=\"M 0 0 V -97.3 H -48.2625\" /><circle class=\"sym\" cx=\"0\" cy=\"0\" r=\"3\" /><text class=\"lab rgt\" transform=\"translate(3 -7.0)\">5</text></g><circle class=\"sym\" cx=\"0\" cy=\"0\" r=\"3\" /><text class=\"lab\" transform=\"translate(0 -11)\">7</text></g></g></g><g class=\"tree t1\" transform=\"translate(268.4 0)\"><g class=\"plotbox\"><g class=\"c2 node n7 p0 root\" transform=\"translate(105.8 26.8)\"><g class=\"a7 c2 node n4 p0\" transform=\"translate(42.9 145.95)\"><g class=\"a4 i1 leaf node n1 p0 sample\" transform=\"translate(-21.45 48.65)\"><path class=\"edge\" d=\"M 0 0 V -48.65 H 21.45\" /><rect class=\"sym\" height=\"6\" width=\"6\" x=\"-3\" y=\"-3\" /><text class=\"lab\" transform=\"translate(0 11)\">1</text></g><g class=\"a4 i2 leaf node n2 p0 sample\" transform=\"translate(21.45 48.65)\"><path class=\"edge\" d=\"M 0 0 V -48.65 H -21.45\" /><rect class=\"sym\" height=\"6\" width=\"6\" x=\"-3\" y=\"-3\" /><text class=\"lab\" transform=\"translate(0 11)\">2</text></g><path class=\"edge\" d=\"M 0 0 V -145.95 H -42.9\" /><circle class=\"sym\" cx=\"0\" cy=\"0\" r=\"3\" /><text class=\"lab rgt\" transform=\"translate(3 -7.0)\">4</text></g><g class=\"a7 c2 node n6 p0\" transform=\"translate(-42.9 48.65)\"><g class=\"a6 i0 leaf node n0 p0 sample\" transform=\"translate(-21.45 145.95)\"><path class=\"edge\" d=\"M 0 0 V -145.95 H 21.45\" /><rect class=\"sym\" height=\"6\" width=\"6\" x=\"-3\" y=\"-3\" /><text class=\"lab\" transform=\"translate(0 11)\">0</text></g><g class=\"a6 i3 leaf node n3 p0 sample\" transform=\"translate(21.45 145.95)\"><path class=\"edge\" d=\"M 0 0 V -145.95 H -21.45\" /><rect class=\"sym\" height=\"6\" width=\"6\" x=\"-3\" y=\"-3\" /><text class=\"lab\" transform=\"translate(0 11)\">3</text></g><path class=\"edge\" d=\"M 0 0 V -48.65 H 42.9\" /><circle class=\"sym\" cx=\"0\" cy=\"0\" r=\"3\" /><text class=\"lab lft\" transform=\"translate(-3 -7.0)\">6</text></g><circle class=\"sym\" cx=\"0\" cy=\"0\" r=\"3\" /><text class=\"lab\" transform=\"translate(0 -11)\">7</text></g></g></g></g></g></svg>"
      ],
      "text/plain": [
       "'<svg baseProfile=\"full\" height=\"300\" version=\"1.1\" width=\"510\" xmlns=\"http://www.w3.org/2000/svg\" xmlns:ev=\"http://www.w3.org/2001/xml-events\" xmlns:xlink=\"http://www.w3.org/1999/xlink\"><defs><style type=\"text/css\"><![CDATA[.background path {fill: #808080; fill-opacity: 0}.background path:nth-child(odd) {fill-opacity: .1}.axes {font-size: 14px}.x-axis .tick .lab {font-weight: bold; dominant-baseline: hanging}.axes, .tree {font-size: 14px; text-anchor: middle}.axes line, .edge {stroke: black; fill: none}.axes .ax-skip {stroke-dasharray: 4}.y-axis .grid {stroke: #FAFAFA}.node > .sym {fill: black; stroke: none}.site > .sym {stroke: black}.mut text {fill: red; font-style: italic}.mut.extra text {fill: hotpink}.mut line {fill: none; stroke: none}.mut .sym {fill: none; stroke: red}.mut.extra .sym {stroke: hotpink}.node .mut .sym {stroke-width: 1.5px}.tree text, .tree-sequence text {dominant-baseline: central}.plotbox .lab.lft {text-anchor: end}.plotbox .lab.rgt {text-anchor: start}.tree-sequence {transform: translateX(10px)}]]></style></defs><g class=\"tree-sequence\"><g class=\"axes\"><g class=\"x-axis\"><g class=\"title\" transform=\"translate(268.4 300)\"><text class=\"lab\" text-anchor=\"middle\" transform=\"translate(0 -11)\">Genome position</text></g><line class=\"ax-line\" x1=\"56.8\" x2=\"480\" y1=\"263.2\" y2=\"263.2\" /><g class=\"ticks\"><g class=\"tick\" transform=\"translate(56.8 263.2)\"><line x1=\"0\" x2=\"0\" y1=\"-5\" y2=\"5\" /><g transform=\"translate(0 6)\"><text class=\"lab\">0</text></g></g><g class=\"tick\" transform=\"translate(268.4 263.2)\"><line x1=\"0\" x2=\"0\" y1=\"-5\" y2=\"5\" /><g transform=\"translate(0 6)\"><text class=\"lab\">12</text></g></g><g class=\"tick\" transform=\"translate(480 263.2)\"><line x1=\"0\" x2=\"0\" y1=\"-5\" y2=\"5\" /><g transform=\"translate(0 6)\"><text class=\"lab\">50</text></g></g></g></g><g class=\"y-axis\"><g class=\"title\" transform=\"translate(0 115.7)\"><text class=\"lab\" text-anchor=\"middle\" transform=\"translate(11) rotate(-90)\"> </text></g><line class=\"ax-line\" x1=\"56.8\" x2=\"56.8\" y1=\"221.4\" y2=\"10\" /><g class=\"ticks\"><g class=\"tick\" transform=\"translate(56.8 221.4)\"><line x1=\"0\" x2=\"-5\" y1=\"0\" y2=\"0\" /><g transform=\"translate(-6 0)\"><text class=\"lab\" text-anchor=\"end\">0.00</text></g></g><g class=\"tick\" transform=\"translate(56.8 172.75)\"><line x1=\"0\" x2=\"-5\" y1=\"0\" y2=\"0\" /><g transform=\"translate(-6 0)\"><text class=\"lab\" text-anchor=\"end\">2080.20</text></g></g><g class=\"tick\" transform=\"translate(56.8 124.1)\"><line x1=\"0\" x2=\"-5\" y1=\"0\" y2=\"0\" /><g transform=\"translate(-6 0)\"><text class=\"lab\" text-anchor=\"end\">17694.55</text></g></g><g class=\"tick\" transform=\"translate(56.8 75.45)\"><line x1=\"0\" x2=\"-5\" y1=\"0\" y2=\"0\" /><g transform=\"translate(-6 0)\"><text class=\"lab\" text-anchor=\"end\">19402.96</text></g></g><g class=\"tick\" transform=\"translate(56.8 26.8)\"><line x1=\"0\" x2=\"-5\" y1=\"0\" y2=\"0\" /><g transform=\"translate(-6 0)\"><text class=\"lab\" text-anchor=\"end\">23320.81</text></g></g></g></g></g><g class=\"plotbox trees\"><g class=\"tree t0\" transform=\"translate(56.8 0)\"><g class=\"plotbox\"><g class=\"c2 node n7 p0 root\" transform=\"translate(89.7125 26.8)\"><g class=\"a7 i0 leaf node n0 p0 sample\" transform=\"translate(-48.2625 194.6)\"><path class=\"edge\" d=\"M 0 0 V -194.6 H 48.2625\" /><rect class=\"sym\" height=\"6\" width=\"6\" x=\"-3\" y=\"-3\" /><text class=\"lab\" transform=\"translate(0 11)\">0</text></g><g class=\"a7 c2 node n5 p0\" transform=\"translate(48.2625 97.3)\"><g class=\"a5 i3 leaf node n3 p0 sample\" transform=\"translate(32.175 97.3)\"><path class=\"edge\" d=\"M 0 0 V -97.3 H -32.175\" /><rect class=\"sym\" height=\"6\" width=\"6\" x=\"-3\" y=\"-3\" /><text class=\"lab\" transform=\"translate(0 11)\">3</text></g><g class=\"a5 c2 node n4 p0\" transform=\"translate(-32.175 48.65)\"><g class=\"a4 i1 leaf node n1 p0 sample\" transform=\"translate(-21.45 48.65)\"><path class=\"edge\" d=\"M 0 0 V -48.65 H 21.45\" /><rect class=\"sym\" height=\"6\" width=\"6\" x=\"-3\" y=\"-3\" /><text class=\"lab\" transform=\"translate(0 11)\">1</text></g><g class=\"a4 i2 leaf node n2 p0 sample\" transform=\"translate(21.45 48.65)\"><path class=\"edge\" d=\"M 0 0 V -48.65 H -21.45\" /><rect class=\"sym\" height=\"6\" width=\"6\" x=\"-3\" y=\"-3\" /><text class=\"lab\" transform=\"translate(0 11)\">2</text></g><path class=\"edge\" d=\"M 0 0 V -48.65 H 32.175\" /><circle class=\"sym\" cx=\"0\" cy=\"0\" r=\"3\" /><text class=\"lab lft\" transform=\"translate(-3 -7.0)\">4</text></g><path class=\"edge\" d=\"M 0 0 V -97.3 H -48.2625\" /><circle class=\"sym\" cx=\"0\" cy=\"0\" r=\"3\" /><text class=\"lab rgt\" transform=\"translate(3 -7.0)\">5</text></g><circle class=\"sym\" cx=\"0\" cy=\"0\" r=\"3\" /><text class=\"lab\" transform=\"translate(0 -11)\">7</text></g></g></g><g class=\"tree t1\" transform=\"translate(268.4 0)\"><g class=\"plotbox\"><g class=\"c2 node n7 p0 root\" transform=\"translate(105.8 26.8)\"><g class=\"a7 c2 node n4 p0\" transform=\"translate(42.9 145.95)\"><g class=\"a4 i1 leaf node n1 p0 sample\" transform=\"translate(-21.45 48.65)\"><path class=\"edge\" d=\"M 0 0 V -48.65 H 21.45\" /><rect class=\"sym\" height=\"6\" width=\"6\" x=\"-3\" y=\"-3\" /><text class=\"lab\" transform=\"translate(0 11)\">1</text></g><g class=\"a4 i2 leaf node n2 p0 sample\" transform=\"translate(21.45 48.65)\"><path class=\"edge\" d=\"M 0 0 V -48.65 H -21.45\" /><rect class=\"sym\" height=\"6\" width=\"6\" x=\"-3\" y=\"-3\" /><text class=\"lab\" transform=\"translate(0 11)\">2</text></g><path class=\"edge\" d=\"M 0 0 V -145.95 H -42.9\" /><circle class=\"sym\" cx=\"0\" cy=\"0\" r=\"3\" /><text class=\"lab rgt\" transform=\"translate(3 -7.0)\">4</text></g><g class=\"a7 c2 node n6 p0\" transform=\"translate(-42.9 48.65)\"><g class=\"a6 i0 leaf node n0 p0 sample\" transform=\"translate(-21.45 145.95)\"><path class=\"edge\" d=\"M 0 0 V -145.95 H 21.45\" /><rect class=\"sym\" height=\"6\" width=\"6\" x=\"-3\" y=\"-3\" /><text class=\"lab\" transform=\"translate(0 11)\">0</text></g><g class=\"a6 i3 leaf node n3 p0 sample\" transform=\"translate(21.45 145.95)\"><path class=\"edge\" d=\"M 0 0 V -145.95 H -21.45\" /><rect class=\"sym\" height=\"6\" width=\"6\" x=\"-3\" y=\"-3\" /><text class=\"lab\" transform=\"translate(0 11)\">3</text></g><path class=\"edge\" d=\"M 0 0 V -48.65 H 42.9\" /><circle class=\"sym\" cx=\"0\" cy=\"0\" r=\"3\" /><text class=\"lab lft\" transform=\"translate(-3 -7.0)\">6</text></g><circle class=\"sym\" cx=\"0\" cy=\"0\" r=\"3\" /><text class=\"lab\" transform=\"translate(0 -11)\">7</text></g></g></g></g></g></svg>'"
      ]
     },
     "metadata": {},
     "output_type": "display_data"
    }
   ],
   "source": [
    "svg_size = (500, 300) # Height and width for the SVG: optional but useful for this notebook\n",
    "svg_string = ts1.draw_svg(\n",
    "    path=\"ts1.svg\",\n",
    "    size=svg_size,\n",
    "    y_axis=True, y_label=\" \",  # optional: show a time scale on the left\n",
    "    time_scale=\"rank\", x_scale=\"treewise\", canvas_size=(svg_size[0]+10, svg_size[1]), style=\".tree-sequence {transform: translateX(10px)}\"  # Force same axis settings as the text view\n",
    ")\n",
    "display(svg_string)"
   ]
  },
  {
   "cell_type": "code",
   "execution_count": 19,
   "id": "e35045ef-354e-4c15-bcf6-e363714a3b4e",
   "metadata": {},
   "outputs": [
    {
     "data": {
      "image/svg+xml": [
       "<svg baseProfile=\"full\" height=\"300\" version=\"1.1\" width=\"510\" xmlns=\"http://www.w3.org/2000/svg\" xmlns:ev=\"http://www.w3.org/2001/xml-events\" xmlns:xlink=\"http://www.w3.org/1999/xlink\"><defs><style type=\"text/css\"><![CDATA[.background path {fill: #808080; fill-opacity: 0}.background path:nth-child(odd) {fill-opacity: .1}.axes {font-size: 14px}.x-axis .tick .lab {font-weight: bold; dominant-baseline: hanging}.axes, .tree {font-size: 14px; text-anchor: middle}.axes line, .edge {stroke: black; fill: none}.axes .ax-skip {stroke-dasharray: 4}.y-axis .grid {stroke: #FAFAFA}.node > .sym {fill: black; stroke: none}.site > .sym {stroke: black}.mut text {fill: red; font-style: italic}.mut.extra text {fill: hotpink}.mut line {fill: none; stroke: none}.mut .sym {fill: none; stroke: red}.mut.extra .sym {stroke: hotpink}.node .mut .sym {stroke-width: 1.5px}.tree text, .tree-sequence text {dominant-baseline: central}.plotbox .lab.lft {text-anchor: end}.plotbox .lab.rgt {text-anchor: start}.tree-sequence {transform: translateX(10px)}]]></style></defs><g class=\"tree-sequence\"><g class=\"axes\"><g class=\"x-axis\"><g class=\"title\" transform=\"translate(268.4 300)\"><text class=\"lab\" text-anchor=\"middle\" transform=\"translate(0 -11)\">Genome position</text></g><line class=\"ax-line\" x1=\"56.8\" x2=\"480\" y1=\"263.2\" y2=\"263.2\" /><g class=\"ticks\"><g class=\"tick\" transform=\"translate(56.8 263.2)\"><line x1=\"0\" x2=\"0\" y1=\"-5\" y2=\"5\" /><g transform=\"translate(0 6)\"><text class=\"lab\">0</text></g></g><g class=\"tick\" transform=\"translate(268.4 263.2)\"><line x1=\"0\" x2=\"0\" y1=\"-5\" y2=\"5\" /><g transform=\"translate(0 6)\"><text class=\"lab\">45</text></g></g><g class=\"tick\" transform=\"translate(480 263.2)\"><line x1=\"0\" x2=\"0\" y1=\"-5\" y2=\"5\" /><g transform=\"translate(0 6)\"><text class=\"lab\">50</text></g></g></g></g><g class=\"y-axis\"><g class=\"title\" transform=\"translate(0 115.7)\"><text class=\"lab\" text-anchor=\"middle\" transform=\"translate(11) rotate(-90)\"> </text></g><line class=\"ax-line\" x1=\"56.8\" x2=\"56.8\" y1=\"221.4\" y2=\"10\" /><g class=\"ticks\"><g class=\"tick\" transform=\"translate(56.8 221.4)\"><line x1=\"0\" x2=\"-5\" y1=\"0\" y2=\"0\" /><g transform=\"translate(-6 0)\"><text class=\"lab\" text-anchor=\"end\">0.00</text></g></g><g class=\"tick\" transform=\"translate(56.8 172.75)\"><line x1=\"0\" x2=\"-5\" y1=\"0\" y2=\"0\" /><g transform=\"translate(-6 0)\"><text class=\"lab\" text-anchor=\"end\">97.88</text></g></g><g class=\"tick\" transform=\"translate(56.8 124.1)\"><line x1=\"0\" x2=\"-5\" y1=\"0\" y2=\"0\" /><g transform=\"translate(-6 0)\"><text class=\"lab\" text-anchor=\"end\">101.30</text></g></g><g class=\"tick\" transform=\"translate(56.8 75.45)\"><line x1=\"0\" x2=\"-5\" y1=\"0\" y2=\"0\" /><g transform=\"translate(-6 0)\"><text class=\"lab\" text-anchor=\"end\">108.17</text></g></g><g class=\"tick\" transform=\"translate(56.8 26.8)\"><line x1=\"0\" x2=\"-5\" y1=\"0\" y2=\"0\" /><g transform=\"translate(-6 0)\"><text class=\"lab\" text-anchor=\"end\">158.72</text></g></g></g></g></g><g class=\"plotbox trees\"><g class=\"tree t0\" transform=\"translate(56.8 0)\"><g class=\"plotbox\"><g class=\"c2 node n6 p1 root\" transform=\"translate(132.612 75.45)\"><g class=\"a6 i2 leaf node n2 p1 sample\" transform=\"translate(37.5375 145.95)\"><path class=\"edge\" d=\"M 0 0 V -145.95 H -37.5375\" /><rect class=\"sym\" height=\"6\" width=\"6\" x=\"-3\" y=\"-3\" /><text class=\"lab\" transform=\"translate(0 11)\">2</text></g><g class=\"a6 c2 node n5 p1\" transform=\"translate(-37.5375 48.65)\"><g class=\"a5 i3 leaf node n3 p1 sample\" transform=\"translate(32.175 97.3)\"><path class=\"edge\" d=\"M 0 0 V -97.3 H -32.175\" /><rect class=\"sym\" height=\"6\" width=\"6\" x=\"-3\" y=\"-3\" /><text class=\"lab\" transform=\"translate(0 11)\">3</text></g><g class=\"a5 c2 node n4 p1\" transform=\"translate(-32.175 48.65)\"><g class=\"a4 i0 leaf node n0 p1 sample\" transform=\"translate(-21.45 48.65)\"><path class=\"edge\" d=\"M 0 0 V -48.65 H 21.45\" /><rect class=\"sym\" height=\"6\" width=\"6\" x=\"-3\" y=\"-3\" /><text class=\"lab\" transform=\"translate(0 11)\">0</text></g><g class=\"a4 i1 leaf node n1 p1 sample\" transform=\"translate(21.45 48.65)\"><path class=\"edge\" d=\"M 0 0 V -48.65 H -21.45\" /><rect class=\"sym\" height=\"6\" width=\"6\" x=\"-3\" y=\"-3\" /><text class=\"lab\" transform=\"translate(0 11)\">1</text></g><path class=\"edge\" d=\"M 0 0 V -48.65 H 32.175\" /><circle class=\"sym\" cx=\"0\" cy=\"0\" r=\"3\" /><text class=\"lab lft\" transform=\"translate(-3 -7.0)\">4</text></g><path class=\"edge\" d=\"M 0 0 V -48.65 H 37.5375\" /><circle class=\"sym\" cx=\"0\" cy=\"0\" r=\"3\" /><text class=\"lab lft\" transform=\"translate(-3 -7.0)\">5</text></g><circle class=\"sym\" cx=\"0\" cy=\"0\" r=\"3\" /><text class=\"lab\" transform=\"translate(0 -11)\">6</text></g></g></g><g class=\"tree t1\" transform=\"translate(268.4 0)\"><g class=\"plotbox\"><g class=\"c2 node n7 p1 root\" transform=\"translate(105.8 26.8)\"><g class=\"a7 c2 node n4 p1\" transform=\"translate(-42.9 145.95)\"><g class=\"a4 i0 leaf node n0 p1 sample\" transform=\"translate(-21.45 48.65)\"><path class=\"edge\" d=\"M 0 0 V -48.65 H 21.45\" /><rect class=\"sym\" height=\"6\" width=\"6\" x=\"-3\" y=\"-3\" /><text class=\"lab\" transform=\"translate(0 11)\">0</text></g><g class=\"a4 i1 leaf node n1 p1 sample\" transform=\"translate(21.45 48.65)\"><path class=\"edge\" d=\"M 0 0 V -48.65 H -21.45\" /><rect class=\"sym\" height=\"6\" width=\"6\" x=\"-3\" y=\"-3\" /><text class=\"lab\" transform=\"translate(0 11)\">1</text></g><path class=\"edge\" d=\"M 0 0 V -145.95 H 42.9\" /><circle class=\"sym\" cx=\"0\" cy=\"0\" r=\"3\" /><text class=\"lab lft\" transform=\"translate(-3 -7.0)\">4</text></g><g class=\"a7 c2 node n6 p1\" transform=\"translate(42.9 48.65)\"><g class=\"a6 i2 leaf node n2 p1 sample\" transform=\"translate(-21.45 145.95)\"><path class=\"edge\" d=\"M 0 0 V -145.95 H 21.45\" /><rect class=\"sym\" height=\"6\" width=\"6\" x=\"-3\" y=\"-3\" /><text class=\"lab\" transform=\"translate(0 11)\">2</text></g><g class=\"a6 i3 leaf node n3 p1 sample\" transform=\"translate(21.45 145.95)\"><path class=\"edge\" d=\"M 0 0 V -145.95 H -21.45\" /><rect class=\"sym\" height=\"6\" width=\"6\" x=\"-3\" y=\"-3\" /><text class=\"lab\" transform=\"translate(0 11)\">3</text></g><path class=\"edge\" d=\"M 0 0 V -48.65 H -42.9\" /><circle class=\"sym\" cx=\"0\" cy=\"0\" r=\"3\" /><text class=\"lab rgt\" transform=\"translate(3 -7.0)\">6</text></g><circle class=\"sym\" cx=\"0\" cy=\"0\" r=\"3\" /><text class=\"lab\" transform=\"translate(0 -11)\">7</text></g></g></g></g></g></svg>"
      ],
      "text/plain": [
       "'<svg baseProfile=\"full\" height=\"300\" version=\"1.1\" width=\"510\" xmlns=\"http://www.w3.org/2000/svg\" xmlns:ev=\"http://www.w3.org/2001/xml-events\" xmlns:xlink=\"http://www.w3.org/1999/xlink\"><defs><style type=\"text/css\"><![CDATA[.background path {fill: #808080; fill-opacity: 0}.background path:nth-child(odd) {fill-opacity: .1}.axes {font-size: 14px}.x-axis .tick .lab {font-weight: bold; dominant-baseline: hanging}.axes, .tree {font-size: 14px; text-anchor: middle}.axes line, .edge {stroke: black; fill: none}.axes .ax-skip {stroke-dasharray: 4}.y-axis .grid {stroke: #FAFAFA}.node > .sym {fill: black; stroke: none}.site > .sym {stroke: black}.mut text {fill: red; font-style: italic}.mut.extra text {fill: hotpink}.mut line {fill: none; stroke: none}.mut .sym {fill: none; stroke: red}.mut.extra .sym {stroke: hotpink}.node .mut .sym {stroke-width: 1.5px}.tree text, .tree-sequence text {dominant-baseline: central}.plotbox .lab.lft {text-anchor: end}.plotbox .lab.rgt {text-anchor: start}.tree-sequence {transform: translateX(10px)}]]></style></defs><g class=\"tree-sequence\"><g class=\"axes\"><g class=\"x-axis\"><g class=\"title\" transform=\"translate(268.4 300)\"><text class=\"lab\" text-anchor=\"middle\" transform=\"translate(0 -11)\">Genome position</text></g><line class=\"ax-line\" x1=\"56.8\" x2=\"480\" y1=\"263.2\" y2=\"263.2\" /><g class=\"ticks\"><g class=\"tick\" transform=\"translate(56.8 263.2)\"><line x1=\"0\" x2=\"0\" y1=\"-5\" y2=\"5\" /><g transform=\"translate(0 6)\"><text class=\"lab\">0</text></g></g><g class=\"tick\" transform=\"translate(268.4 263.2)\"><line x1=\"0\" x2=\"0\" y1=\"-5\" y2=\"5\" /><g transform=\"translate(0 6)\"><text class=\"lab\">45</text></g></g><g class=\"tick\" transform=\"translate(480 263.2)\"><line x1=\"0\" x2=\"0\" y1=\"-5\" y2=\"5\" /><g transform=\"translate(0 6)\"><text class=\"lab\">50</text></g></g></g></g><g class=\"y-axis\"><g class=\"title\" transform=\"translate(0 115.7)\"><text class=\"lab\" text-anchor=\"middle\" transform=\"translate(11) rotate(-90)\"> </text></g><line class=\"ax-line\" x1=\"56.8\" x2=\"56.8\" y1=\"221.4\" y2=\"10\" /><g class=\"ticks\"><g class=\"tick\" transform=\"translate(56.8 221.4)\"><line x1=\"0\" x2=\"-5\" y1=\"0\" y2=\"0\" /><g transform=\"translate(-6 0)\"><text class=\"lab\" text-anchor=\"end\">0.00</text></g></g><g class=\"tick\" transform=\"translate(56.8 172.75)\"><line x1=\"0\" x2=\"-5\" y1=\"0\" y2=\"0\" /><g transform=\"translate(-6 0)\"><text class=\"lab\" text-anchor=\"end\">97.88</text></g></g><g class=\"tick\" transform=\"translate(56.8 124.1)\"><line x1=\"0\" x2=\"-5\" y1=\"0\" y2=\"0\" /><g transform=\"translate(-6 0)\"><text class=\"lab\" text-anchor=\"end\">101.30</text></g></g><g class=\"tick\" transform=\"translate(56.8 75.45)\"><line x1=\"0\" x2=\"-5\" y1=\"0\" y2=\"0\" /><g transform=\"translate(-6 0)\"><text class=\"lab\" text-anchor=\"end\">108.17</text></g></g><g class=\"tick\" transform=\"translate(56.8 26.8)\"><line x1=\"0\" x2=\"-5\" y1=\"0\" y2=\"0\" /><g transform=\"translate(-6 0)\"><text class=\"lab\" text-anchor=\"end\">158.72</text></g></g></g></g></g><g class=\"plotbox trees\"><g class=\"tree t0\" transform=\"translate(56.8 0)\"><g class=\"plotbox\"><g class=\"c2 node n6 p1 root\" transform=\"translate(132.612 75.45)\"><g class=\"a6 i2 leaf node n2 p1 sample\" transform=\"translate(37.5375 145.95)\"><path class=\"edge\" d=\"M 0 0 V -145.95 H -37.5375\" /><rect class=\"sym\" height=\"6\" width=\"6\" x=\"-3\" y=\"-3\" /><text class=\"lab\" transform=\"translate(0 11)\">2</text></g><g class=\"a6 c2 node n5 p1\" transform=\"translate(-37.5375 48.65)\"><g class=\"a5 i3 leaf node n3 p1 sample\" transform=\"translate(32.175 97.3)\"><path class=\"edge\" d=\"M 0 0 V -97.3 H -32.175\" /><rect class=\"sym\" height=\"6\" width=\"6\" x=\"-3\" y=\"-3\" /><text class=\"lab\" transform=\"translate(0 11)\">3</text></g><g class=\"a5 c2 node n4 p1\" transform=\"translate(-32.175 48.65)\"><g class=\"a4 i0 leaf node n0 p1 sample\" transform=\"translate(-21.45 48.65)\"><path class=\"edge\" d=\"M 0 0 V -48.65 H 21.45\" /><rect class=\"sym\" height=\"6\" width=\"6\" x=\"-3\" y=\"-3\" /><text class=\"lab\" transform=\"translate(0 11)\">0</text></g><g class=\"a4 i1 leaf node n1 p1 sample\" transform=\"translate(21.45 48.65)\"><path class=\"edge\" d=\"M 0 0 V -48.65 H -21.45\" /><rect class=\"sym\" height=\"6\" width=\"6\" x=\"-3\" y=\"-3\" /><text class=\"lab\" transform=\"translate(0 11)\">1</text></g><path class=\"edge\" d=\"M 0 0 V -48.65 H 32.175\" /><circle class=\"sym\" cx=\"0\" cy=\"0\" r=\"3\" /><text class=\"lab lft\" transform=\"translate(-3 -7.0)\">4</text></g><path class=\"edge\" d=\"M 0 0 V -48.65 H 37.5375\" /><circle class=\"sym\" cx=\"0\" cy=\"0\" r=\"3\" /><text class=\"lab lft\" transform=\"translate(-3 -7.0)\">5</text></g><circle class=\"sym\" cx=\"0\" cy=\"0\" r=\"3\" /><text class=\"lab\" transform=\"translate(0 -11)\">6</text></g></g></g><g class=\"tree t1\" transform=\"translate(268.4 0)\"><g class=\"plotbox\"><g class=\"c2 node n7 p1 root\" transform=\"translate(105.8 26.8)\"><g class=\"a7 c2 node n4 p1\" transform=\"translate(-42.9 145.95)\"><g class=\"a4 i0 leaf node n0 p1 sample\" transform=\"translate(-21.45 48.65)\"><path class=\"edge\" d=\"M 0 0 V -48.65 H 21.45\" /><rect class=\"sym\" height=\"6\" width=\"6\" x=\"-3\" y=\"-3\" /><text class=\"lab\" transform=\"translate(0 11)\">0</text></g><g class=\"a4 i1 leaf node n1 p1 sample\" transform=\"translate(21.45 48.65)\"><path class=\"edge\" d=\"M 0 0 V -48.65 H -21.45\" /><rect class=\"sym\" height=\"6\" width=\"6\" x=\"-3\" y=\"-3\" /><text class=\"lab\" transform=\"translate(0 11)\">1</text></g><path class=\"edge\" d=\"M 0 0 V -145.95 H 42.9\" /><circle class=\"sym\" cx=\"0\" cy=\"0\" r=\"3\" /><text class=\"lab lft\" transform=\"translate(-3 -7.0)\">4</text></g><g class=\"a7 c2 node n6 p1\" transform=\"translate(42.9 48.65)\"><g class=\"a6 i2 leaf node n2 p1 sample\" transform=\"translate(-21.45 145.95)\"><path class=\"edge\" d=\"M 0 0 V -145.95 H 21.45\" /><rect class=\"sym\" height=\"6\" width=\"6\" x=\"-3\" y=\"-3\" /><text class=\"lab\" transform=\"translate(0 11)\">2</text></g><g class=\"a6 i3 leaf node n3 p1 sample\" transform=\"translate(21.45 145.95)\"><path class=\"edge\" d=\"M 0 0 V -145.95 H -21.45\" /><rect class=\"sym\" height=\"6\" width=\"6\" x=\"-3\" y=\"-3\" /><text class=\"lab\" transform=\"translate(0 11)\">3</text></g><path class=\"edge\" d=\"M 0 0 V -48.65 H -42.9\" /><circle class=\"sym\" cx=\"0\" cy=\"0\" r=\"3\" /><text class=\"lab rgt\" transform=\"translate(3 -7.0)\">6</text></g><circle class=\"sym\" cx=\"0\" cy=\"0\" r=\"3\" /><text class=\"lab\" transform=\"translate(0 -11)\">7</text></g></g></g></g></g></svg>'"
      ]
     },
     "metadata": {},
     "output_type": "display_data"
    }
   ],
   "source": [
    "svg_size = (500, 300) # Height and width for the SVG: optional but useful for this notebook\n",
    "svg_string = ts2.draw_svg(\n",
    "    path=\"ts2.svg\",\n",
    "    size=svg_size,\n",
    "    y_axis=True, y_label=\" \",  # optional: show a time scale on the left\n",
    "    time_scale=\"rank\", x_scale=\"treewise\", canvas_size=(svg_size[0]+10, svg_size[1]), style=\".tree-sequence {transform: translateX(10px)}\"  # Force same axis settings as the text view\n",
    ")\n",
    "display(svg_string)"
   ]
  },
  {
   "cell_type": "code",
   "execution_count": 20,
   "id": "140299dd-9071-406a-8d03-c5ed183ab3c1",
   "metadata": {},
   "outputs": [],
   "source": [
    "tsu = ts1.union(ts2, node_mapping=np.full(ts2.num_nodes, tskit.NULL), add_populations=False)"
   ]
  },
  {
   "cell_type": "code",
   "execution_count": 21,
   "id": "7c7141e9-898b-4781-bb81-a089cfd91229",
   "metadata": {},
   "outputs": [
    {
     "data": {
      "image/svg+xml": [
       "<svg baseProfile=\"full\" height=\"300\" version=\"1.1\" width=\"1010\" xmlns=\"http://www.w3.org/2000/svg\" xmlns:ev=\"http://www.w3.org/2001/xml-events\" xmlns:xlink=\"http://www.w3.org/1999/xlink\"><defs><style type=\"text/css\"><![CDATA[.background path {fill: #808080; fill-opacity: 0}.background path:nth-child(odd) {fill-opacity: .1}.axes {font-size: 14px}.x-axis .tick .lab {font-weight: bold; dominant-baseline: hanging}.axes, .tree {font-size: 14px; text-anchor: middle}.axes line, .edge {stroke: black; fill: none}.axes .ax-skip {stroke-dasharray: 4}.y-axis .grid {stroke: #FAFAFA}.node > .sym {fill: black; stroke: none}.site > .sym {stroke: black}.mut text {fill: red; font-style: italic}.mut.extra text {fill: hotpink}.mut line {fill: none; stroke: none}.mut .sym {fill: none; stroke: red}.mut.extra .sym {stroke: hotpink}.node .mut .sym {stroke-width: 1.5px}.tree text, .tree-sequence text {dominant-baseline: central}.plotbox .lab.lft {text-anchor: end}.plotbox .lab.rgt {text-anchor: start}.tree-sequence {transform: translateX(10px)}]]></style></defs><g class=\"tree-sequence\"><g class=\"axes\"><g class=\"x-axis\"><g class=\"title\" transform=\"translate(518.4 300)\"><text class=\"lab\" text-anchor=\"middle\" transform=\"translate(0 -11)\">Genome position</text></g><line class=\"ax-line\" x1=\"56.8\" x2=\"980\" y1=\"263.2\" y2=\"263.2\" /><g class=\"ticks\"><g class=\"tick\" transform=\"translate(56.8 263.2)\"><line x1=\"0\" x2=\"0\" y1=\"-5\" y2=\"5\" /><g transform=\"translate(0 6)\"><text class=\"lab\">0</text></g></g><g class=\"tick\" transform=\"translate(364.533 263.2)\"><line x1=\"0\" x2=\"0\" y1=\"-5\" y2=\"5\" /><g transform=\"translate(0 6)\"><text class=\"lab\">12</text></g></g><g class=\"tick\" transform=\"translate(672.267 263.2)\"><line x1=\"0\" x2=\"0\" y1=\"-5\" y2=\"5\" /><g transform=\"translate(0 6)\"><text class=\"lab\">45</text></g></g><g class=\"tick\" transform=\"translate(980 263.2)\"><line x1=\"0\" x2=\"0\" y1=\"-5\" y2=\"5\" /><g transform=\"translate(0 6)\"><text class=\"lab\">50</text></g></g></g></g><g class=\"y-axis\"><g class=\"title\" transform=\"translate(0 115.7)\"><text class=\"lab\" text-anchor=\"middle\" transform=\"translate(11) rotate(-90)\"> </text></g><line class=\"ax-line\" x1=\"56.8\" x2=\"56.8\" y1=\"221.4\" y2=\"10\" /><g class=\"ticks\"><g class=\"tick\" transform=\"translate(56.8 221.4)\"><line x1=\"0\" x2=\"-5\" y1=\"0\" y2=\"0\" /><g transform=\"translate(-6 0)\"><text class=\"lab\" text-anchor=\"end\">0.00</text></g></g><g class=\"tick\" transform=\"translate(56.8 197.075)\"><line x1=\"0\" x2=\"-5\" y1=\"0\" y2=\"0\" /><g transform=\"translate(-6 0)\"><text class=\"lab\" text-anchor=\"end\">97.88</text></g></g><g class=\"tick\" transform=\"translate(56.8 172.75)\"><line x1=\"0\" x2=\"-5\" y1=\"0\" y2=\"0\" /><g transform=\"translate(-6 0)\"><text class=\"lab\" text-anchor=\"end\">101.30</text></g></g><g class=\"tick\" transform=\"translate(56.8 148.425)\"><line x1=\"0\" x2=\"-5\" y1=\"0\" y2=\"0\" /><g transform=\"translate(-6 0)\"><text class=\"lab\" text-anchor=\"end\">108.17</text></g></g><g class=\"tick\" transform=\"translate(56.8 124.1)\"><line x1=\"0\" x2=\"-5\" y1=\"0\" y2=\"0\" /><g transform=\"translate(-6 0)\"><text class=\"lab\" text-anchor=\"end\">158.72</text></g></g><g class=\"tick\" transform=\"translate(56.8 99.775)\"><line x1=\"0\" x2=\"-5\" y1=\"0\" y2=\"0\" /><g transform=\"translate(-6 0)\"><text class=\"lab\" text-anchor=\"end\">2080.20</text></g></g><g class=\"tick\" transform=\"translate(56.8 75.45)\"><line x1=\"0\" x2=\"-5\" y1=\"0\" y2=\"0\" /><g transform=\"translate(-6 0)\"><text class=\"lab\" text-anchor=\"end\">17694.55</text></g></g><g class=\"tick\" transform=\"translate(56.8 51.125)\"><line x1=\"0\" x2=\"-5\" y1=\"0\" y2=\"0\" /><g transform=\"translate(-6 0)\"><text class=\"lab\" text-anchor=\"end\">19402.96</text></g></g><g class=\"tick\" transform=\"translate(56.8 26.8)\"><line x1=\"0\" x2=\"-5\" y1=\"0\" y2=\"0\" /><g transform=\"translate(-6 0)\"><text class=\"lab\" text-anchor=\"end\">23320.81</text></g></g></g></g></g><g class=\"plotbox trees\"><g class=\"tree t0\" transform=\"translate(56.8 0)\"><g class=\"plotbox\"><g class=\"c2 node n14 p1 root\" transform=\"translate(107.85 148.425)\"><g class=\"a14 i6 leaf node n10 p1 sample\" transform=\"translate(29.2833 72.975)\"><path class=\"edge\" d=\"M 0 0 V -72.975 H -29.2833\" /><rect class=\"sym\" height=\"6\" width=\"6\" x=\"-3\" y=\"-3\" /><text class=\"lab\" transform=\"translate(0 11)\">10</text></g><g class=\"a14 c2 node n13 p1\" transform=\"translate(-29.2833 24.325)\"><g class=\"a13 i7 leaf node n11 p1 sample\" transform=\"translate(25.1 48.65)\"><path class=\"edge\" d=\"M 0 0 V -48.65 H -25.1\" /><rect class=\"sym\" height=\"6\" width=\"6\" x=\"-3\" y=\"-3\" /><text class=\"lab\" transform=\"translate(0 11)\">11</text></g><g class=\"a13 c2 node n12 p1\" transform=\"translate(-25.1 24.325)\"><g class=\"a12 i4 leaf node n8 p1 sample\" transform=\"translate(-16.7333 24.325)\"><path class=\"edge\" d=\"M 0 0 V -24.325 H 16.7333\" /><rect class=\"sym\" height=\"6\" width=\"6\" x=\"-3\" y=\"-3\" /><text class=\"lab\" transform=\"translate(0 11)\">8</text></g><g class=\"a12 i5 leaf node n9 p1 sample\" transform=\"translate(16.7333 24.325)\"><path class=\"edge\" d=\"M 0 0 V -24.325 H -16.7333\" /><rect class=\"sym\" height=\"6\" width=\"6\" x=\"-3\" y=\"-3\" /><text class=\"lab\" transform=\"translate(0 11)\">9</text></g><path class=\"edge\" d=\"M 0 0 V -24.325 H 25.1\" /><circle class=\"sym\" cx=\"0\" cy=\"0\" r=\"3\" /><text class=\"lab lft\" transform=\"translate(-3 -7.0)\">12</text></g><path class=\"edge\" d=\"M 0 0 V -24.325 H 29.2833\" /><circle class=\"sym\" cx=\"0\" cy=\"0\" r=\"3\" /><text class=\"lab lft\" transform=\"translate(-3 -7.0)\">13</text></g><circle class=\"sym\" cx=\"0\" cy=\"0\" r=\"3\" /><text class=\"lab\" transform=\"translate(0 -11)\">14</text></g><g class=\"c2 node n7 p0 root\" transform=\"translate(208.25 26.8)\"><g class=\"a7 i0 leaf node n0 p0 sample\" transform=\"translate(-37.65 194.6)\"><path class=\"edge\" d=\"M 0 0 V -194.6 H 37.65\" /><rect class=\"sym\" height=\"6\" width=\"6\" x=\"-3\" y=\"-3\" /><text class=\"lab\" transform=\"translate(0 11)\">0</text></g><g class=\"a7 c2 node n5 p0\" transform=\"translate(37.65 48.65)\"><g class=\"a5 i3 leaf node n3 p0 sample\" transform=\"translate(25.1 145.95)\"><path class=\"edge\" d=\"M 0 0 V -145.95 H -25.1\" /><rect class=\"sym\" height=\"6\" width=\"6\" x=\"-3\" y=\"-3\" /><text class=\"lab\" transform=\"translate(0 11)\">3</text></g><g class=\"a5 c2 node n4 p0\" transform=\"translate(-25.1 24.325)\"><g class=\"a4 i1 leaf node n1 p0 sample\" transform=\"translate(-16.7333 121.625)\"><path class=\"edge\" d=\"M 0 0 V -121.625 H 16.7333\" /><rect class=\"sym\" height=\"6\" width=\"6\" x=\"-3\" y=\"-3\" /><text class=\"lab\" transform=\"translate(0 11)\">1</text></g><g class=\"a4 i2 leaf node n2 p0 sample\" transform=\"translate(16.7333 121.625)\"><path class=\"edge\" d=\"M 0 0 V -121.625 H -16.7333\" /><rect class=\"sym\" height=\"6\" width=\"6\" x=\"-3\" y=\"-3\" /><text class=\"lab\" transform=\"translate(0 11)\">2</text></g><path class=\"edge\" d=\"M 0 0 V -24.325 H 25.1\" /><circle class=\"sym\" cx=\"0\" cy=\"0\" r=\"3\" /><text class=\"lab lft\" transform=\"translate(-3 -7.0)\">4</text></g><path class=\"edge\" d=\"M 0 0 V -48.65 H -37.65\" /><circle class=\"sym\" cx=\"0\" cy=\"0\" r=\"3\" /><text class=\"lab rgt\" transform=\"translate(3 -7.0)\">5</text></g><circle class=\"sym\" cx=\"0\" cy=\"0\" r=\"3\" /><text class=\"lab\" transform=\"translate(0 -11)\">7</text></g></g></g><g class=\"tree t1\" transform=\"translate(364.533 0)\"><g class=\"plotbox\"><g class=\"c2 node n14 p1 root\" transform=\"translate(107.85 148.425)\"><g class=\"a14 i6 leaf node n10 p1 sample\" transform=\"translate(29.2833 72.975)\"><path class=\"edge\" d=\"M 0 0 V -72.975 H -29.2833\" /><rect class=\"sym\" height=\"6\" width=\"6\" x=\"-3\" y=\"-3\" /><text class=\"lab\" transform=\"translate(0 11)\">10</text></g><g class=\"a14 c2 node n13 p1\" transform=\"translate(-29.2833 24.325)\"><g class=\"a13 i7 leaf node n11 p1 sample\" transform=\"translate(25.1 48.65)\"><path class=\"edge\" d=\"M 0 0 V -48.65 H -25.1\" /><rect class=\"sym\" height=\"6\" width=\"6\" x=\"-3\" y=\"-3\" /><text class=\"lab\" transform=\"translate(0 11)\">11</text></g><g class=\"a13 c2 node n12 p1\" transform=\"translate(-25.1 24.325)\"><g class=\"a12 i4 leaf node n8 p1 sample\" transform=\"translate(-16.7333 24.325)\"><path class=\"edge\" d=\"M 0 0 V -24.325 H 16.7333\" /><rect class=\"sym\" height=\"6\" width=\"6\" x=\"-3\" y=\"-3\" /><text class=\"lab\" transform=\"translate(0 11)\">8</text></g><g class=\"a12 i5 leaf node n9 p1 sample\" transform=\"translate(16.7333 24.325)\"><path class=\"edge\" d=\"M 0 0 V -24.325 H -16.7333\" /><rect class=\"sym\" height=\"6\" width=\"6\" x=\"-3\" y=\"-3\" /><text class=\"lab\" transform=\"translate(0 11)\">9</text></g><path class=\"edge\" d=\"M 0 0 V -24.325 H 25.1\" /><circle class=\"sym\" cx=\"0\" cy=\"0\" r=\"3\" /><text class=\"lab lft\" transform=\"translate(-3 -7.0)\">12</text></g><path class=\"edge\" d=\"M 0 0 V -24.325 H 29.2833\" /><circle class=\"sym\" cx=\"0\" cy=\"0\" r=\"3\" /><text class=\"lab lft\" transform=\"translate(-3 -7.0)\">13</text></g><circle class=\"sym\" cx=\"0\" cy=\"0\" r=\"3\" /><text class=\"lab\" transform=\"translate(0 -11)\">14</text></g><g class=\"c2 node n7 p0 root\" transform=\"translate(220.8 26.8)\"><g class=\"a7 c2 node n4 p0\" transform=\"translate(33.4667 72.975)\"><g class=\"a4 i1 leaf node n1 p0 sample\" transform=\"translate(-16.7333 121.625)\"><path class=\"edge\" d=\"M 0 0 V -121.625 H 16.7333\" /><rect class=\"sym\" height=\"6\" width=\"6\" x=\"-3\" y=\"-3\" /><text class=\"lab\" transform=\"translate(0 11)\">1</text></g><g class=\"a4 i2 leaf node n2 p0 sample\" transform=\"translate(16.7333 121.625)\"><path class=\"edge\" d=\"M 0 0 V -121.625 H -16.7333\" /><rect class=\"sym\" height=\"6\" width=\"6\" x=\"-3\" y=\"-3\" /><text class=\"lab\" transform=\"translate(0 11)\">2</text></g><path class=\"edge\" d=\"M 0 0 V -72.975 H -33.4667\" /><circle class=\"sym\" cx=\"0\" cy=\"0\" r=\"3\" /><text class=\"lab rgt\" transform=\"translate(3 -7.0)\">4</text></g><g class=\"a7 c2 node n6 p0\" transform=\"translate(-33.4667 24.325)\"><g class=\"a6 i0 leaf node n0 p0 sample\" transform=\"translate(-16.7333 170.275)\"><path class=\"edge\" d=\"M 0 0 V -170.275 H 16.7333\" /><rect class=\"sym\" height=\"6\" width=\"6\" x=\"-3\" y=\"-3\" /><text class=\"lab\" transform=\"translate(0 11)\">0</text></g><g class=\"a6 i3 leaf node n3 p0 sample\" transform=\"translate(16.7333 170.275)\"><path class=\"edge\" d=\"M 0 0 V -170.275 H -16.7333\" /><rect class=\"sym\" height=\"6\" width=\"6\" x=\"-3\" y=\"-3\" /><text class=\"lab\" transform=\"translate(0 11)\">3</text></g><path class=\"edge\" d=\"M 0 0 V -24.325 H 33.4667\" /><circle class=\"sym\" cx=\"0\" cy=\"0\" r=\"3\" /><text class=\"lab lft\" transform=\"translate(-3 -7.0)\">6</text></g><circle class=\"sym\" cx=\"0\" cy=\"0\" r=\"3\" /><text class=\"lab\" transform=\"translate(0 -11)\">7</text></g></g></g><g class=\"tree t2\" transform=\"translate(672.267 0)\"><g class=\"plotbox\"><g class=\"c2 node n7 p0 root\" transform=\"translate(86.9333 26.8)\"><g class=\"a7 c2 node n4 p0\" transform=\"translate(33.4667 72.975)\"><g class=\"a4 i1 leaf node n1 p0 sample\" transform=\"translate(-16.7333 121.625)\"><path class=\"edge\" d=\"M 0 0 V -121.625 H 16.7333\" /><rect class=\"sym\" height=\"6\" width=\"6\" x=\"-3\" y=\"-3\" /><text class=\"lab\" transform=\"translate(0 11)\">1</text></g><g class=\"a4 i2 leaf node n2 p0 sample\" transform=\"translate(16.7333 121.625)\"><path class=\"edge\" d=\"M 0 0 V -121.625 H -16.7333\" /><rect class=\"sym\" height=\"6\" width=\"6\" x=\"-3\" y=\"-3\" /><text class=\"lab\" transform=\"translate(0 11)\">2</text></g><path class=\"edge\" d=\"M 0 0 V -72.975 H -33.4667\" /><circle class=\"sym\" cx=\"0\" cy=\"0\" r=\"3\" /><text class=\"lab rgt\" transform=\"translate(3 -7.0)\">4</text></g><g class=\"a7 c2 node n6 p0\" transform=\"translate(-33.4667 24.325)\"><g class=\"a6 i0 leaf node n0 p0 sample\" transform=\"translate(-16.7333 170.275)\"><path class=\"edge\" d=\"M 0 0 V -170.275 H 16.7333\" /><rect class=\"sym\" height=\"6\" width=\"6\" x=\"-3\" y=\"-3\" /><text class=\"lab\" transform=\"translate(0 11)\">0</text></g><g class=\"a6 i3 leaf node n3 p0 sample\" transform=\"translate(16.7333 170.275)\"><path class=\"edge\" d=\"M 0 0 V -170.275 H -16.7333\" /><rect class=\"sym\" height=\"6\" width=\"6\" x=\"-3\" y=\"-3\" /><text class=\"lab\" transform=\"translate(0 11)\">3</text></g><path class=\"edge\" d=\"M 0 0 V -24.325 H 33.4667\" /><circle class=\"sym\" cx=\"0\" cy=\"0\" r=\"3\" /><text class=\"lab lft\" transform=\"translate(-3 -7.0)\">6</text></g><circle class=\"sym\" cx=\"0\" cy=\"0\" r=\"3\" /><text class=\"lab\" transform=\"translate(0 -11)\">7</text></g><g class=\"c2 node n15 p1 root\" transform=\"translate(220.8 124.1)\"><g class=\"a15 c2 node n12 p1\" transform=\"translate(-33.4667 72.975)\"><g class=\"a12 i4 leaf node n8 p1 sample\" transform=\"translate(-16.7333 24.325)\"><path class=\"edge\" d=\"M 0 0 V -24.325 H 16.7333\" /><rect class=\"sym\" height=\"6\" width=\"6\" x=\"-3\" y=\"-3\" /><text class=\"lab\" transform=\"translate(0 11)\">8</text></g><g class=\"a12 i5 leaf node n9 p1 sample\" transform=\"translate(16.7333 24.325)\"><path class=\"edge\" d=\"M 0 0 V -24.325 H -16.7333\" /><rect class=\"sym\" height=\"6\" width=\"6\" x=\"-3\" y=\"-3\" /><text class=\"lab\" transform=\"translate(0 11)\">9</text></g><path class=\"edge\" d=\"M 0 0 V -72.975 H 33.4667\" /><circle class=\"sym\" cx=\"0\" cy=\"0\" r=\"3\" /><text class=\"lab lft\" transform=\"translate(-3 -7.0)\">12</text></g><g class=\"a15 c2 node n14 p1\" transform=\"translate(33.4667 24.325)\"><g class=\"a14 i6 leaf node n10 p1 sample\" transform=\"translate(-16.7333 72.975)\"><path class=\"edge\" d=\"M 0 0 V -72.975 H 16.7333\" /><rect class=\"sym\" height=\"6\" width=\"6\" x=\"-3\" y=\"-3\" /><text class=\"lab\" transform=\"translate(0 11)\">10</text></g><g class=\"a14 i7 leaf node n11 p1 sample\" transform=\"translate(16.7333 72.975)\"><path class=\"edge\" d=\"M 0 0 V -72.975 H -16.7333\" /><rect class=\"sym\" height=\"6\" width=\"6\" x=\"-3\" y=\"-3\" /><text class=\"lab\" transform=\"translate(0 11)\">11</text></g><path class=\"edge\" d=\"M 0 0 V -24.325 H -33.4667\" /><circle class=\"sym\" cx=\"0\" cy=\"0\" r=\"3\" /><text class=\"lab rgt\" transform=\"translate(3 -7.0)\">14</text></g><circle class=\"sym\" cx=\"0\" cy=\"0\" r=\"3\" /><text class=\"lab\" transform=\"translate(0 -11)\">15</text></g></g></g></g></g></svg>"
      ],
      "text/plain": [
       "'<svg baseProfile=\"full\" height=\"300\" version=\"1.1\" width=\"1010\" xmlns=\"http://www.w3.org/2000/svg\" xmlns:ev=\"http://www.w3.org/2001/xml-events\" xmlns:xlink=\"http://www.w3.org/1999/xlink\"><defs><style type=\"text/css\"><![CDATA[.background path {fill: #808080; fill-opacity: 0}.background path:nth-child(odd) {fill-opacity: .1}.axes {font-size: 14px}.x-axis .tick .lab {font-weight: bold; dominant-baseline: hanging}.axes, .tree {font-size: 14px; text-anchor: middle}.axes line, .edge {stroke: black; fill: none}.axes .ax-skip {stroke-dasharray: 4}.y-axis .grid {stroke: #FAFAFA}.node > .sym {fill: black; stroke: none}.site > .sym {stroke: black}.mut text {fill: red; font-style: italic}.mut.extra text {fill: hotpink}.mut line {fill: none; stroke: none}.mut .sym {fill: none; stroke: red}.mut.extra .sym {stroke: hotpink}.node .mut .sym {stroke-width: 1.5px}.tree text, .tree-sequence text {dominant-baseline: central}.plotbox .lab.lft {text-anchor: end}.plotbox .lab.rgt {text-anchor: start}.tree-sequence {transform: translateX(10px)}]]></style></defs><g class=\"tree-sequence\"><g class=\"axes\"><g class=\"x-axis\"><g class=\"title\" transform=\"translate(518.4 300)\"><text class=\"lab\" text-anchor=\"middle\" transform=\"translate(0 -11)\">Genome position</text></g><line class=\"ax-line\" x1=\"56.8\" x2=\"980\" y1=\"263.2\" y2=\"263.2\" /><g class=\"ticks\"><g class=\"tick\" transform=\"translate(56.8 263.2)\"><line x1=\"0\" x2=\"0\" y1=\"-5\" y2=\"5\" /><g transform=\"translate(0 6)\"><text class=\"lab\">0</text></g></g><g class=\"tick\" transform=\"translate(364.533 263.2)\"><line x1=\"0\" x2=\"0\" y1=\"-5\" y2=\"5\" /><g transform=\"translate(0 6)\"><text class=\"lab\">12</text></g></g><g class=\"tick\" transform=\"translate(672.267 263.2)\"><line x1=\"0\" x2=\"0\" y1=\"-5\" y2=\"5\" /><g transform=\"translate(0 6)\"><text class=\"lab\">45</text></g></g><g class=\"tick\" transform=\"translate(980 263.2)\"><line x1=\"0\" x2=\"0\" y1=\"-5\" y2=\"5\" /><g transform=\"translate(0 6)\"><text class=\"lab\">50</text></g></g></g></g><g class=\"y-axis\"><g class=\"title\" transform=\"translate(0 115.7)\"><text class=\"lab\" text-anchor=\"middle\" transform=\"translate(11) rotate(-90)\"> </text></g><line class=\"ax-line\" x1=\"56.8\" x2=\"56.8\" y1=\"221.4\" y2=\"10\" /><g class=\"ticks\"><g class=\"tick\" transform=\"translate(56.8 221.4)\"><line x1=\"0\" x2=\"-5\" y1=\"0\" y2=\"0\" /><g transform=\"translate(-6 0)\"><text class=\"lab\" text-anchor=\"end\">0.00</text></g></g><g class=\"tick\" transform=\"translate(56.8 197.075)\"><line x1=\"0\" x2=\"-5\" y1=\"0\" y2=\"0\" /><g transform=\"translate(-6 0)\"><text class=\"lab\" text-anchor=\"end\">97.88</text></g></g><g class=\"tick\" transform=\"translate(56.8 172.75)\"><line x1=\"0\" x2=\"-5\" y1=\"0\" y2=\"0\" /><g transform=\"translate(-6 0)\"><text class=\"lab\" text-anchor=\"end\">101.30</text></g></g><g class=\"tick\" transform=\"translate(56.8 148.425)\"><line x1=\"0\" x2=\"-5\" y1=\"0\" y2=\"0\" /><g transform=\"translate(-6 0)\"><text class=\"lab\" text-anchor=\"end\">108.17</text></g></g><g class=\"tick\" transform=\"translate(56.8 124.1)\"><line x1=\"0\" x2=\"-5\" y1=\"0\" y2=\"0\" /><g transform=\"translate(-6 0)\"><text class=\"lab\" text-anchor=\"end\">158.72</text></g></g><g class=\"tick\" transform=\"translate(56.8 99.775)\"><line x1=\"0\" x2=\"-5\" y1=\"0\" y2=\"0\" /><g transform=\"translate(-6 0)\"><text class=\"lab\" text-anchor=\"end\">2080.20</text></g></g><g class=\"tick\" transform=\"translate(56.8 75.45)\"><line x1=\"0\" x2=\"-5\" y1=\"0\" y2=\"0\" /><g transform=\"translate(-6 0)\"><text class=\"lab\" text-anchor=\"end\">17694.55</text></g></g><g class=\"tick\" transform=\"translate(56.8 51.125)\"><line x1=\"0\" x2=\"-5\" y1=\"0\" y2=\"0\" /><g transform=\"translate(-6 0)\"><text class=\"lab\" text-anchor=\"end\">19402.96</text></g></g><g class=\"tick\" transform=\"translate(56.8 26.8)\"><line x1=\"0\" x2=\"-5\" y1=\"0\" y2=\"0\" /><g transform=\"translate(-6 0)\"><text class=\"lab\" text-anchor=\"end\">23320.81</text></g></g></g></g></g><g class=\"plotbox trees\"><g class=\"tree t0\" transform=\"translate(56.8 0)\"><g class=\"plotbox\"><g class=\"c2 node n14 p1 root\" transform=\"translate(107.85 148.425)\"><g class=\"a14 i6 leaf node n10 p1 sample\" transform=\"translate(29.2833 72.975)\"><path class=\"edge\" d=\"M 0 0 V -72.975 H -29.2833\" /><rect class=\"sym\" height=\"6\" width=\"6\" x=\"-3\" y=\"-3\" /><text class=\"lab\" transform=\"translate(0 11)\">10</text></g><g class=\"a14 c2 node n13 p1\" transform=\"translate(-29.2833 24.325)\"><g class=\"a13 i7 leaf node n11 p1 sample\" transform=\"translate(25.1 48.65)\"><path class=\"edge\" d=\"M 0 0 V -48.65 H -25.1\" /><rect class=\"sym\" height=\"6\" width=\"6\" x=\"-3\" y=\"-3\" /><text class=\"lab\" transform=\"translate(0 11)\">11</text></g><g class=\"a13 c2 node n12 p1\" transform=\"translate(-25.1 24.325)\"><g class=\"a12 i4 leaf node n8 p1 sample\" transform=\"translate(-16.7333 24.325)\"><path class=\"edge\" d=\"M 0 0 V -24.325 H 16.7333\" /><rect class=\"sym\" height=\"6\" width=\"6\" x=\"-3\" y=\"-3\" /><text class=\"lab\" transform=\"translate(0 11)\">8</text></g><g class=\"a12 i5 leaf node n9 p1 sample\" transform=\"translate(16.7333 24.325)\"><path class=\"edge\" d=\"M 0 0 V -24.325 H -16.7333\" /><rect class=\"sym\" height=\"6\" width=\"6\" x=\"-3\" y=\"-3\" /><text class=\"lab\" transform=\"translate(0 11)\">9</text></g><path class=\"edge\" d=\"M 0 0 V -24.325 H 25.1\" /><circle class=\"sym\" cx=\"0\" cy=\"0\" r=\"3\" /><text class=\"lab lft\" transform=\"translate(-3 -7.0)\">12</text></g><path class=\"edge\" d=\"M 0 0 V -24.325 H 29.2833\" /><circle class=\"sym\" cx=\"0\" cy=\"0\" r=\"3\" /><text class=\"lab lft\" transform=\"translate(-3 -7.0)\">13</text></g><circle class=\"sym\" cx=\"0\" cy=\"0\" r=\"3\" /><text class=\"lab\" transform=\"translate(0 -11)\">14</text></g><g class=\"c2 node n7 p0 root\" transform=\"translate(208.25 26.8)\"><g class=\"a7 i0 leaf node n0 p0 sample\" transform=\"translate(-37.65 194.6)\"><path class=\"edge\" d=\"M 0 0 V -194.6 H 37.65\" /><rect class=\"sym\" height=\"6\" width=\"6\" x=\"-3\" y=\"-3\" /><text class=\"lab\" transform=\"translate(0 11)\">0</text></g><g class=\"a7 c2 node n5 p0\" transform=\"translate(37.65 48.65)\"><g class=\"a5 i3 leaf node n3 p0 sample\" transform=\"translate(25.1 145.95)\"><path class=\"edge\" d=\"M 0 0 V -145.95 H -25.1\" /><rect class=\"sym\" height=\"6\" width=\"6\" x=\"-3\" y=\"-3\" /><text class=\"lab\" transform=\"translate(0 11)\">3</text></g><g class=\"a5 c2 node n4 p0\" transform=\"translate(-25.1 24.325)\"><g class=\"a4 i1 leaf node n1 p0 sample\" transform=\"translate(-16.7333 121.625)\"><path class=\"edge\" d=\"M 0 0 V -121.625 H 16.7333\" /><rect class=\"sym\" height=\"6\" width=\"6\" x=\"-3\" y=\"-3\" /><text class=\"lab\" transform=\"translate(0 11)\">1</text></g><g class=\"a4 i2 leaf node n2 p0 sample\" transform=\"translate(16.7333 121.625)\"><path class=\"edge\" d=\"M 0 0 V -121.625 H -16.7333\" /><rect class=\"sym\" height=\"6\" width=\"6\" x=\"-3\" y=\"-3\" /><text class=\"lab\" transform=\"translate(0 11)\">2</text></g><path class=\"edge\" d=\"M 0 0 V -24.325 H 25.1\" /><circle class=\"sym\" cx=\"0\" cy=\"0\" r=\"3\" /><text class=\"lab lft\" transform=\"translate(-3 -7.0)\">4</text></g><path class=\"edge\" d=\"M 0 0 V -48.65 H -37.65\" /><circle class=\"sym\" cx=\"0\" cy=\"0\" r=\"3\" /><text class=\"lab rgt\" transform=\"translate(3 -7.0)\">5</text></g><circle class=\"sym\" cx=\"0\" cy=\"0\" r=\"3\" /><text class=\"lab\" transform=\"translate(0 -11)\">7</text></g></g></g><g class=\"tree t1\" transform=\"translate(364.533 0)\"><g class=\"plotbox\"><g class=\"c2 node n14 p1 root\" transform=\"translate(107.85 148.425)\"><g class=\"a14 i6 leaf node n10 p1 sample\" transform=\"translate(29.2833 72.975)\"><path class=\"edge\" d=\"M 0 0 V -72.975 H -29.2833\" /><rect class=\"sym\" height=\"6\" width=\"6\" x=\"-3\" y=\"-3\" /><text class=\"lab\" transform=\"translate(0 11)\">10</text></g><g class=\"a14 c2 node n13 p1\" transform=\"translate(-29.2833 24.325)\"><g class=\"a13 i7 leaf node n11 p1 sample\" transform=\"translate(25.1 48.65)\"><path class=\"edge\" d=\"M 0 0 V -48.65 H -25.1\" /><rect class=\"sym\" height=\"6\" width=\"6\" x=\"-3\" y=\"-3\" /><text class=\"lab\" transform=\"translate(0 11)\">11</text></g><g class=\"a13 c2 node n12 p1\" transform=\"translate(-25.1 24.325)\"><g class=\"a12 i4 leaf node n8 p1 sample\" transform=\"translate(-16.7333 24.325)\"><path class=\"edge\" d=\"M 0 0 V -24.325 H 16.7333\" /><rect class=\"sym\" height=\"6\" width=\"6\" x=\"-3\" y=\"-3\" /><text class=\"lab\" transform=\"translate(0 11)\">8</text></g><g class=\"a12 i5 leaf node n9 p1 sample\" transform=\"translate(16.7333 24.325)\"><path class=\"edge\" d=\"M 0 0 V -24.325 H -16.7333\" /><rect class=\"sym\" height=\"6\" width=\"6\" x=\"-3\" y=\"-3\" /><text class=\"lab\" transform=\"translate(0 11)\">9</text></g><path class=\"edge\" d=\"M 0 0 V -24.325 H 25.1\" /><circle class=\"sym\" cx=\"0\" cy=\"0\" r=\"3\" /><text class=\"lab lft\" transform=\"translate(-3 -7.0)\">12</text></g><path class=\"edge\" d=\"M 0 0 V -24.325 H 29.2833\" /><circle class=\"sym\" cx=\"0\" cy=\"0\" r=\"3\" /><text class=\"lab lft\" transform=\"translate(-3 -7.0)\">13</text></g><circle class=\"sym\" cx=\"0\" cy=\"0\" r=\"3\" /><text class=\"lab\" transform=\"translate(0 -11)\">14</text></g><g class=\"c2 node n7 p0 root\" transform=\"translate(220.8 26.8)\"><g class=\"a7 c2 node n4 p0\" transform=\"translate(33.4667 72.975)\"><g class=\"a4 i1 leaf node n1 p0 sample\" transform=\"translate(-16.7333 121.625)\"><path class=\"edge\" d=\"M 0 0 V -121.625 H 16.7333\" /><rect class=\"sym\" height=\"6\" width=\"6\" x=\"-3\" y=\"-3\" /><text class=\"lab\" transform=\"translate(0 11)\">1</text></g><g class=\"a4 i2 leaf node n2 p0 sample\" transform=\"translate(16.7333 121.625)\"><path class=\"edge\" d=\"M 0 0 V -121.625 H -16.7333\" /><rect class=\"sym\" height=\"6\" width=\"6\" x=\"-3\" y=\"-3\" /><text class=\"lab\" transform=\"translate(0 11)\">2</text></g><path class=\"edge\" d=\"M 0 0 V -72.975 H -33.4667\" /><circle class=\"sym\" cx=\"0\" cy=\"0\" r=\"3\" /><text class=\"lab rgt\" transform=\"translate(3 -7.0)\">4</text></g><g class=\"a7 c2 node n6 p0\" transform=\"translate(-33.4667 24.325)\"><g class=\"a6 i0 leaf node n0 p0 sample\" transform=\"translate(-16.7333 170.275)\"><path class=\"edge\" d=\"M 0 0 V -170.275 H 16.7333\" /><rect class=\"sym\" height=\"6\" width=\"6\" x=\"-3\" y=\"-3\" /><text class=\"lab\" transform=\"translate(0 11)\">0</text></g><g class=\"a6 i3 leaf node n3 p0 sample\" transform=\"translate(16.7333 170.275)\"><path class=\"edge\" d=\"M 0 0 V -170.275 H -16.7333\" /><rect class=\"sym\" height=\"6\" width=\"6\" x=\"-3\" y=\"-3\" /><text class=\"lab\" transform=\"translate(0 11)\">3</text></g><path class=\"edge\" d=\"M 0 0 V -24.325 H 33.4667\" /><circle class=\"sym\" cx=\"0\" cy=\"0\" r=\"3\" /><text class=\"lab lft\" transform=\"translate(-3 -7.0)\">6</text></g><circle class=\"sym\" cx=\"0\" cy=\"0\" r=\"3\" /><text class=\"lab\" transform=\"translate(0 -11)\">7</text></g></g></g><g class=\"tree t2\" transform=\"translate(672.267 0)\"><g class=\"plotbox\"><g class=\"c2 node n7 p0 root\" transform=\"translate(86.9333 26.8)\"><g class=\"a7 c2 node n4 p0\" transform=\"translate(33.4667 72.975)\"><g class=\"a4 i1 leaf node n1 p0 sample\" transform=\"translate(-16.7333 121.625)\"><path class=\"edge\" d=\"M 0 0 V -121.625 H 16.7333\" /><rect class=\"sym\" height=\"6\" width=\"6\" x=\"-3\" y=\"-3\" /><text class=\"lab\" transform=\"translate(0 11)\">1</text></g><g class=\"a4 i2 leaf node n2 p0 sample\" transform=\"translate(16.7333 121.625)\"><path class=\"edge\" d=\"M 0 0 V -121.625 H -16.7333\" /><rect class=\"sym\" height=\"6\" width=\"6\" x=\"-3\" y=\"-3\" /><text class=\"lab\" transform=\"translate(0 11)\">2</text></g><path class=\"edge\" d=\"M 0 0 V -72.975 H -33.4667\" /><circle class=\"sym\" cx=\"0\" cy=\"0\" r=\"3\" /><text class=\"lab rgt\" transform=\"translate(3 -7.0)\">4</text></g><g class=\"a7 c2 node n6 p0\" transform=\"translate(-33.4667 24.325)\"><g class=\"a6 i0 leaf node n0 p0 sample\" transform=\"translate(-16.7333 170.275)\"><path class=\"edge\" d=\"M 0 0 V -170.275 H 16.7333\" /><rect class=\"sym\" height=\"6\" width=\"6\" x=\"-3\" y=\"-3\" /><text class=\"lab\" transform=\"translate(0 11)\">0</text></g><g class=\"a6 i3 leaf node n3 p0 sample\" transform=\"translate(16.7333 170.275)\"><path class=\"edge\" d=\"M 0 0 V -170.275 H -16.7333\" /><rect class=\"sym\" height=\"6\" width=\"6\" x=\"-3\" y=\"-3\" /><text class=\"lab\" transform=\"translate(0 11)\">3</text></g><path class=\"edge\" d=\"M 0 0 V -24.325 H 33.4667\" /><circle class=\"sym\" cx=\"0\" cy=\"0\" r=\"3\" /><text class=\"lab lft\" transform=\"translate(-3 -7.0)\">6</text></g><circle class=\"sym\" cx=\"0\" cy=\"0\" r=\"3\" /><text class=\"lab\" transform=\"translate(0 -11)\">7</text></g><g class=\"c2 node n15 p1 root\" transform=\"translate(220.8 124.1)\"><g class=\"a15 c2 node n12 p1\" transform=\"translate(-33.4667 72.975)\"><g class=\"a12 i4 leaf node n8 p1 sample\" transform=\"translate(-16.7333 24.325)\"><path class=\"edge\" d=\"M 0 0 V -24.325 H 16.7333\" /><rect class=\"sym\" height=\"6\" width=\"6\" x=\"-3\" y=\"-3\" /><text class=\"lab\" transform=\"translate(0 11)\">8</text></g><g class=\"a12 i5 leaf node n9 p1 sample\" transform=\"translate(16.7333 24.325)\"><path class=\"edge\" d=\"M 0 0 V -24.325 H -16.7333\" /><rect class=\"sym\" height=\"6\" width=\"6\" x=\"-3\" y=\"-3\" /><text class=\"lab\" transform=\"translate(0 11)\">9</text></g><path class=\"edge\" d=\"M 0 0 V -72.975 H 33.4667\" /><circle class=\"sym\" cx=\"0\" cy=\"0\" r=\"3\" /><text class=\"lab lft\" transform=\"translate(-3 -7.0)\">12</text></g><g class=\"a15 c2 node n14 p1\" transform=\"translate(33.4667 24.325)\"><g class=\"a14 i6 leaf node n10 p1 sample\" transform=\"translate(-16.7333 72.975)\"><path class=\"edge\" d=\"M 0 0 V -72.975 H 16.7333\" /><rect class=\"sym\" height=\"6\" width=\"6\" x=\"-3\" y=\"-3\" /><text class=\"lab\" transform=\"translate(0 11)\">10</text></g><g class=\"a14 i7 leaf node n11 p1 sample\" transform=\"translate(16.7333 72.975)\"><path class=\"edge\" d=\"M 0 0 V -72.975 H -16.7333\" /><rect class=\"sym\" height=\"6\" width=\"6\" x=\"-3\" y=\"-3\" /><text class=\"lab\" transform=\"translate(0 11)\">11</text></g><path class=\"edge\" d=\"M 0 0 V -24.325 H -33.4667\" /><circle class=\"sym\" cx=\"0\" cy=\"0\" r=\"3\" /><text class=\"lab rgt\" transform=\"translate(3 -7.0)\">14</text></g><circle class=\"sym\" cx=\"0\" cy=\"0\" r=\"3\" /><text class=\"lab\" transform=\"translate(0 -11)\">15</text></g></g></g></g></g></svg>'"
      ]
     },
     "metadata": {},
     "output_type": "display_data"
    }
   ],
   "source": [
    "svg_size = (1000, 300) # Height and width for the SVG: optional but useful for this notebook\n",
    "svg_string = tsu.draw_svg(\n",
    "    path=\"tsu.svg\",\n",
    "    size=svg_size,\n",
    "    y_axis=True, y_label=\" \",  # optional: show a time scale on the left\n",
    "    time_scale=\"rank\", x_scale=\"treewise\", canvas_size=(svg_size[0]+10, svg_size[1]), style=\".tree-sequence {transform: translateX(10px)}\"  # Force same axis settings as the text view\n",
    ")\n",
    "display(svg_string)"
   ]
  },
  {
   "cell_type": "code",
   "execution_count": 22,
   "id": "99a2ce56-337b-40e6-8fd7-01cd2181964e",
   "metadata": {},
   "outputs": [],
   "source": [
    "\n",
    "tsu_recap = msprime.sim_ancestry(initial_state = tsu, demography=demography, random_seed=3)"
   ]
  },
  {
   "cell_type": "code",
   "execution_count": 23,
   "id": "a4ba4806-a1a0-4ce8-8441-af994f15a051",
   "metadata": {},
   "outputs": [
    {
     "data": {
      "image/svg+xml": [
       "<svg baseProfile=\"full\" height=\"300\" version=\"1.1\" width=\"1010\" xmlns=\"http://www.w3.org/2000/svg\" xmlns:ev=\"http://www.w3.org/2001/xml-events\" xmlns:xlink=\"http://www.w3.org/1999/xlink\"><defs><style type=\"text/css\"><![CDATA[.background path {fill: #808080; fill-opacity: 0}.background path:nth-child(odd) {fill-opacity: .1}.axes {font-size: 14px}.x-axis .tick .lab {font-weight: bold; dominant-baseline: hanging}.axes, .tree {font-size: 14px; text-anchor: middle}.axes line, .edge {stroke: black; fill: none}.axes .ax-skip {stroke-dasharray: 4}.y-axis .grid {stroke: #FAFAFA}.node > .sym {fill: black; stroke: none}.site > .sym {stroke: black}.mut text {fill: red; font-style: italic}.mut.extra text {fill: hotpink}.mut line {fill: none; stroke: none}.mut .sym {fill: none; stroke: red}.mut.extra .sym {stroke: hotpink}.node .mut .sym {stroke-width: 1.5px}.tree text, .tree-sequence text {dominant-baseline: central}.plotbox .lab.lft {text-anchor: end}.plotbox .lab.rgt {text-anchor: start}.tree-sequence {transform: translateX(10px)}]]></style></defs><g class=\"tree-sequence\"><g class=\"axes\"><g class=\"x-axis\"><g class=\"title\" transform=\"translate(518.4 300)\"><text class=\"lab\" text-anchor=\"middle\" transform=\"translate(0 -11)\">Genome position</text></g><line class=\"ax-line\" x1=\"56.8\" x2=\"980\" y1=\"263.2\" y2=\"263.2\" /><g class=\"ticks\"><g class=\"tick\" transform=\"translate(56.8 263.2)\"><line x1=\"0\" x2=\"0\" y1=\"-5\" y2=\"5\" /><g transform=\"translate(0 6)\"><text class=\"lab\">0</text></g></g><g class=\"tick\" transform=\"translate(364.533 263.2)\"><line x1=\"0\" x2=\"0\" y1=\"-5\" y2=\"5\" /><g transform=\"translate(0 6)\"><text class=\"lab\">12</text></g></g><g class=\"tick\" transform=\"translate(672.267 263.2)\"><line x1=\"0\" x2=\"0\" y1=\"-5\" y2=\"5\" /><g transform=\"translate(0 6)\"><text class=\"lab\">45</text></g></g><g class=\"tick\" transform=\"translate(980 263.2)\"><line x1=\"0\" x2=\"0\" y1=\"-5\" y2=\"5\" /><g transform=\"translate(0 6)\"><text class=\"lab\">50</text></g></g></g></g><g class=\"y-axis\"><g class=\"title\" transform=\"translate(0 115.7)\"><text class=\"lab\" text-anchor=\"middle\" transform=\"translate(11) rotate(-90)\"> </text></g><line class=\"ax-line\" x1=\"56.8\" x2=\"56.8\" y1=\"221.4\" y2=\"10\" /><g class=\"ticks\"><g class=\"tick\" transform=\"translate(56.8 221.4)\"><line x1=\"0\" x2=\"-5\" y1=\"0\" y2=\"0\" /><g transform=\"translate(-6 0)\"><text class=\"lab\" text-anchor=\"end\">0.00</text></g></g><g class=\"tick\" transform=\"translate(56.8 199.778)\"><line x1=\"0\" x2=\"-5\" y1=\"0\" y2=\"0\" /><g transform=\"translate(-6 0)\"><text class=\"lab\" text-anchor=\"end\">97.88</text></g></g><g class=\"tick\" transform=\"translate(56.8 178.156)\"><line x1=\"0\" x2=\"-5\" y1=\"0\" y2=\"0\" /><g transform=\"translate(-6 0)\"><text class=\"lab\" text-anchor=\"end\">101.30</text></g></g><g class=\"tick\" transform=\"translate(56.8 156.533)\"><line x1=\"0\" x2=\"-5\" y1=\"0\" y2=\"0\" /><g transform=\"translate(-6 0)\"><text class=\"lab\" text-anchor=\"end\">108.17</text></g></g><g class=\"tick\" transform=\"translate(56.8 134.911)\"><line x1=\"0\" x2=\"-5\" y1=\"0\" y2=\"0\" /><g transform=\"translate(-6 0)\"><text class=\"lab\" text-anchor=\"end\">158.72</text></g></g><g class=\"tick\" transform=\"translate(56.8 113.289)\"><line x1=\"0\" x2=\"-5\" y1=\"0\" y2=\"0\" /><g transform=\"translate(-6 0)\"><text class=\"lab\" text-anchor=\"end\">2080.20</text></g></g><g class=\"tick\" transform=\"translate(56.8 91.6667)\"><line x1=\"0\" x2=\"-5\" y1=\"0\" y2=\"0\" /><g transform=\"translate(-6 0)\"><text class=\"lab\" text-anchor=\"end\">17694.55</text></g></g><g class=\"tick\" transform=\"translate(56.8 70.0444)\"><line x1=\"0\" x2=\"-5\" y1=\"0\" y2=\"0\" /><g transform=\"translate(-6 0)\"><text class=\"lab\" text-anchor=\"end\">19402.96</text></g></g><g class=\"tick\" transform=\"translate(56.8 48.4222)\"><line x1=\"0\" x2=\"-5\" y1=\"0\" y2=\"0\" /><g transform=\"translate(-6 0)\"><text class=\"lab\" text-anchor=\"end\">23320.81</text></g></g><g class=\"tick\" transform=\"translate(56.8 26.8)\"><line x1=\"0\" x2=\"-5\" y1=\"0\" y2=\"0\" /><g transform=\"translate(-6 0)\"><text class=\"lab\" text-anchor=\"end\">125868.85</text></g></g></g></g></g><g class=\"plotbox trees\"><g class=\"tree t0\" transform=\"translate(56.8 0)\"><g class=\"plotbox\"><g class=\"c2 node n16 p2 root\" transform=\"translate(158.05 26.8)\"><g class=\"a16 c2 node n7 p0\" transform=\"translate(-83.6667 21.6222)\"><g class=\"a7 i0 leaf node n0 p0 sample\" transform=\"translate(-37.65 172.978)\"><path class=\"edge\" d=\"M 0 0 V -172.978 H 37.65\" /><rect class=\"sym\" height=\"6\" width=\"6\" x=\"-3\" y=\"-3\" /><text class=\"lab\" transform=\"translate(0 11)\">0</text></g><g class=\"a7 c2 node n5 p0\" transform=\"translate(37.65 43.2444)\"><g class=\"a5 i3 leaf node n3 p0 sample\" transform=\"translate(25.1 129.733)\"><path class=\"edge\" d=\"M 0 0 V -129.733 H -25.1\" /><rect class=\"sym\" height=\"6\" width=\"6\" x=\"-3\" y=\"-3\" /><text class=\"lab\" transform=\"translate(0 11)\">3</text></g><g class=\"a5 c2 node n4 p0\" transform=\"translate(-25.1 21.6222)\"><g class=\"a4 i1 leaf node n1 p0 sample\" transform=\"translate(-16.7333 108.111)\"><path class=\"edge\" d=\"M 0 0 V -108.111 H 16.7333\" /><rect class=\"sym\" height=\"6\" width=\"6\" x=\"-3\" y=\"-3\" /><text class=\"lab\" transform=\"translate(0 11)\">1</text></g><g class=\"a4 i2 leaf node n2 p0 sample\" transform=\"translate(16.7333 108.111)\"><path class=\"edge\" d=\"M 0 0 V -108.111 H -16.7333\" /><rect class=\"sym\" height=\"6\" width=\"6\" x=\"-3\" y=\"-3\" /><text class=\"lab\" transform=\"translate(0 11)\">2</text></g><path class=\"edge\" d=\"M 0 0 V -21.6222 H 25.1\" /><circle class=\"sym\" cx=\"0\" cy=\"0\" r=\"3\" /><text class=\"lab lft\" transform=\"translate(-3 -7.0)\">4</text></g><path class=\"edge\" d=\"M 0 0 V -43.2444 H -37.65\" /><circle class=\"sym\" cx=\"0\" cy=\"0\" r=\"3\" /><text class=\"lab rgt\" transform=\"translate(3 -7.0)\">5</text></g><path class=\"edge\" d=\"M 0 0 V -21.6222 H 83.6667\" /><circle class=\"sym\" cx=\"0\" cy=\"0\" r=\"3\" /><text class=\"lab lft\" transform=\"translate(-3 -7.0)\">7</text></g><g class=\"a16 c2 node n14 p1\" transform=\"translate(83.6667 129.733)\"><g class=\"a14 i6 leaf node n10 p1 sample\" transform=\"translate(29.2833 64.8667)\"><path class=\"edge\" d=\"M 0 0 V -64.8667 H -29.2833\" /><rect class=\"sym\" height=\"6\" width=\"6\" x=\"-3\" y=\"-3\" /><text class=\"lab\" transform=\"translate(0 11)\">10</text></g><g class=\"a14 c2 node n13 p1\" transform=\"translate(-29.2833 21.6222)\"><g class=\"a13 i7 leaf node n11 p1 sample\" transform=\"translate(25.1 43.2444)\"><path class=\"edge\" d=\"M 0 0 V -43.2444 H -25.1\" /><rect class=\"sym\" height=\"6\" width=\"6\" x=\"-3\" y=\"-3\" /><text class=\"lab\" transform=\"translate(0 11)\">11</text></g><g class=\"a13 c2 node n12 p1\" transform=\"translate(-25.1 21.6222)\"><g class=\"a12 i4 leaf node n8 p1 sample\" transform=\"translate(-16.7333 21.6222)\"><path class=\"edge\" d=\"M 0 0 V -21.6222 H 16.7333\" /><rect class=\"sym\" height=\"6\" width=\"6\" x=\"-3\" y=\"-3\" /><text class=\"lab\" transform=\"translate(0 11)\">8</text></g><g class=\"a12 i5 leaf node n9 p1 sample\" transform=\"translate(16.7333 21.6222)\"><path class=\"edge\" d=\"M 0 0 V -21.6222 H -16.7333\" /><rect class=\"sym\" height=\"6\" width=\"6\" x=\"-3\" y=\"-3\" /><text class=\"lab\" transform=\"translate(0 11)\">9</text></g><path class=\"edge\" d=\"M 0 0 V -21.6222 H 25.1\" /><circle class=\"sym\" cx=\"0\" cy=\"0\" r=\"3\" /><text class=\"lab lft\" transform=\"translate(-3 -7.0)\">12</text></g><path class=\"edge\" d=\"M 0 0 V -21.6222 H 29.2833\" /><circle class=\"sym\" cx=\"0\" cy=\"0\" r=\"3\" /><text class=\"lab lft\" transform=\"translate(-3 -7.0)\">13</text></g><path class=\"edge\" d=\"M 0 0 V -129.733 H -83.6667\" /><circle class=\"sym\" cx=\"0\" cy=\"0\" r=\"3\" /><text class=\"lab rgt\" transform=\"translate(3 -7.0)\">14</text></g><circle class=\"sym\" cx=\"0\" cy=\"0\" r=\"3\" /><text class=\"lab\" transform=\"translate(0 -11)\">16</text></g></g></g><g class=\"tree t1\" transform=\"translate(364.533 0)\"><g class=\"plotbox\"><g class=\"c2 node n16 p2 root\" transform=\"translate(164.325 26.8)\"><g class=\"a16 c2 node n7 p0\" transform=\"translate(-77.3917 21.6222)\"><g class=\"a7 c2 node n4 p0\" transform=\"translate(33.4667 64.8667)\"><g class=\"a4 i1 leaf node n1 p0 sample\" transform=\"translate(-16.7333 108.111)\"><path class=\"edge\" d=\"M 0 0 V -108.111 H 16.7333\" /><rect class=\"sym\" height=\"6\" width=\"6\" x=\"-3\" y=\"-3\" /><text class=\"lab\" transform=\"translate(0 11)\">1</text></g><g class=\"a4 i2 leaf node n2 p0 sample\" transform=\"translate(16.7333 108.111)\"><path class=\"edge\" d=\"M 0 0 V -108.111 H -16.7333\" /><rect class=\"sym\" height=\"6\" width=\"6\" x=\"-3\" y=\"-3\" /><text class=\"lab\" transform=\"translate(0 11)\">2</text></g><path class=\"edge\" d=\"M 0 0 V -64.8667 H -33.4667\" /><circle class=\"sym\" cx=\"0\" cy=\"0\" r=\"3\" /><text class=\"lab rgt\" transform=\"translate(3 -7.0)\">4</text></g><g class=\"a7 c2 node n6 p0\" transform=\"translate(-33.4667 21.6222)\"><g class=\"a6 i0 leaf node n0 p0 sample\" transform=\"translate(-16.7333 151.356)\"><path class=\"edge\" d=\"M 0 0 V -151.356 H 16.7333\" /><rect class=\"sym\" height=\"6\" width=\"6\" x=\"-3\" y=\"-3\" /><text class=\"lab\" transform=\"translate(0 11)\">0</text></g><g class=\"a6 i3 leaf node n3 p0 sample\" transform=\"translate(16.7333 151.356)\"><path class=\"edge\" d=\"M 0 0 V -151.356 H -16.7333\" /><rect class=\"sym\" height=\"6\" width=\"6\" x=\"-3\" y=\"-3\" /><text class=\"lab\" transform=\"translate(0 11)\">3</text></g><path class=\"edge\" d=\"M 0 0 V -21.6222 H 33.4667\" /><circle class=\"sym\" cx=\"0\" cy=\"0\" r=\"3\" /><text class=\"lab lft\" transform=\"translate(-3 -7.0)\">6</text></g><path class=\"edge\" d=\"M 0 0 V -21.6222 H 77.3917\" /><circle class=\"sym\" cx=\"0\" cy=\"0\" r=\"3\" /><text class=\"lab lft\" transform=\"translate(-3 -7.0)\">7</text></g><g class=\"a16 c2 node n14 p1\" transform=\"translate(77.3917 129.733)\"><g class=\"a14 i6 leaf node n10 p1 sample\" transform=\"translate(29.2833 64.8667)\"><path class=\"edge\" d=\"M 0 0 V -64.8667 H -29.2833\" /><rect class=\"sym\" height=\"6\" width=\"6\" x=\"-3\" y=\"-3\" /><text class=\"lab\" transform=\"translate(0 11)\">10</text></g><g class=\"a14 c2 node n13 p1\" transform=\"translate(-29.2833 21.6222)\"><g class=\"a13 i7 leaf node n11 p1 sample\" transform=\"translate(25.1 43.2444)\"><path class=\"edge\" d=\"M 0 0 V -43.2444 H -25.1\" /><rect class=\"sym\" height=\"6\" width=\"6\" x=\"-3\" y=\"-3\" /><text class=\"lab\" transform=\"translate(0 11)\">11</text></g><g class=\"a13 c2 node n12 p1\" transform=\"translate(-25.1 21.6222)\"><g class=\"a12 i4 leaf node n8 p1 sample\" transform=\"translate(-16.7333 21.6222)\"><path class=\"edge\" d=\"M 0 0 V -21.6222 H 16.7333\" /><rect class=\"sym\" height=\"6\" width=\"6\" x=\"-3\" y=\"-3\" /><text class=\"lab\" transform=\"translate(0 11)\">8</text></g><g class=\"a12 i5 leaf node n9 p1 sample\" transform=\"translate(16.7333 21.6222)\"><path class=\"edge\" d=\"M 0 0 V -21.6222 H -16.7333\" /><rect class=\"sym\" height=\"6\" width=\"6\" x=\"-3\" y=\"-3\" /><text class=\"lab\" transform=\"translate(0 11)\">9</text></g><path class=\"edge\" d=\"M 0 0 V -21.6222 H 25.1\" /><circle class=\"sym\" cx=\"0\" cy=\"0\" r=\"3\" /><text class=\"lab lft\" transform=\"translate(-3 -7.0)\">12</text></g><path class=\"edge\" d=\"M 0 0 V -21.6222 H 29.2833\" /><circle class=\"sym\" cx=\"0\" cy=\"0\" r=\"3\" /><text class=\"lab lft\" transform=\"translate(-3 -7.0)\">13</text></g><path class=\"edge\" d=\"M 0 0 V -129.733 H -77.3917\" /><circle class=\"sym\" cx=\"0\" cy=\"0\" r=\"3\" /><text class=\"lab rgt\" transform=\"translate(3 -7.0)\">14</text></g><circle class=\"sym\" cx=\"0\" cy=\"0\" r=\"3\" /><text class=\"lab\" transform=\"translate(0 -11)\">16</text></g></g></g><g class=\"tree t2\" transform=\"translate(672.267 0)\"><g class=\"plotbox\"><g class=\"c2 node n16 p2 root\" transform=\"translate(153.867 26.8)\"><g class=\"a16 c2 node n7 p0\" transform=\"translate(-66.9333 21.6222)\"><g class=\"a7 c2 node n4 p0\" transform=\"translate(33.4667 64.8667)\"><g class=\"a4 i1 leaf node n1 p0 sample\" transform=\"translate(-16.7333 108.111)\"><path class=\"edge\" d=\"M 0 0 V -108.111 H 16.7333\" /><rect class=\"sym\" height=\"6\" width=\"6\" x=\"-3\" y=\"-3\" /><text class=\"lab\" transform=\"translate(0 11)\">1</text></g><g class=\"a4 i2 leaf node n2 p0 sample\" transform=\"translate(16.7333 108.111)\"><path class=\"edge\" d=\"M 0 0 V -108.111 H -16.7333\" /><rect class=\"sym\" height=\"6\" width=\"6\" x=\"-3\" y=\"-3\" /><text class=\"lab\" transform=\"translate(0 11)\">2</text></g><path class=\"edge\" d=\"M 0 0 V -64.8667 H -33.4667\" /><circle class=\"sym\" cx=\"0\" cy=\"0\" r=\"3\" /><text class=\"lab rgt\" transform=\"translate(3 -7.0)\">4</text></g><g class=\"a7 c2 node n6 p0\" transform=\"translate(-33.4667 21.6222)\"><g class=\"a6 i0 leaf node n0 p0 sample\" transform=\"translate(-16.7333 151.356)\"><path class=\"edge\" d=\"M 0 0 V -151.356 H 16.7333\" /><rect class=\"sym\" height=\"6\" width=\"6\" x=\"-3\" y=\"-3\" /><text class=\"lab\" transform=\"translate(0 11)\">0</text></g><g class=\"a6 i3 leaf node n3 p0 sample\" transform=\"translate(16.7333 151.356)\"><path class=\"edge\" d=\"M 0 0 V -151.356 H -16.7333\" /><rect class=\"sym\" height=\"6\" width=\"6\" x=\"-3\" y=\"-3\" /><text class=\"lab\" transform=\"translate(0 11)\">3</text></g><path class=\"edge\" d=\"M 0 0 V -21.6222 H 33.4667\" /><circle class=\"sym\" cx=\"0\" cy=\"0\" r=\"3\" /><text class=\"lab lft\" transform=\"translate(-3 -7.0)\">6</text></g><path class=\"edge\" d=\"M 0 0 V -21.6222 H 66.9333\" /><circle class=\"sym\" cx=\"0\" cy=\"0\" r=\"3\" /><text class=\"lab lft\" transform=\"translate(-3 -7.0)\">7</text></g><g class=\"a16 c2 node n15 p1\" transform=\"translate(66.9333 108.111)\"><g class=\"a15 c2 node n12 p1\" transform=\"translate(-33.4667 64.8667)\"><g class=\"a12 i4 leaf node n8 p1 sample\" transform=\"translate(-16.7333 21.6222)\"><path class=\"edge\" d=\"M 0 0 V -21.6222 H 16.7333\" /><rect class=\"sym\" height=\"6\" width=\"6\" x=\"-3\" y=\"-3\" /><text class=\"lab\" transform=\"translate(0 11)\">8</text></g><g class=\"a12 i5 leaf node n9 p1 sample\" transform=\"translate(16.7333 21.6222)\"><path class=\"edge\" d=\"M 0 0 V -21.6222 H -16.7333\" /><rect class=\"sym\" height=\"6\" width=\"6\" x=\"-3\" y=\"-3\" /><text class=\"lab\" transform=\"translate(0 11)\">9</text></g><path class=\"edge\" d=\"M 0 0 V -64.8667 H 33.4667\" /><circle class=\"sym\" cx=\"0\" cy=\"0\" r=\"3\" /><text class=\"lab lft\" transform=\"translate(-3 -7.0)\">12</text></g><g class=\"a15 c2 node n14 p1\" transform=\"translate(33.4667 21.6222)\"><g class=\"a14 i6 leaf node n10 p1 sample\" transform=\"translate(-16.7333 64.8667)\"><path class=\"edge\" d=\"M 0 0 V -64.8667 H 16.7333\" /><rect class=\"sym\" height=\"6\" width=\"6\" x=\"-3\" y=\"-3\" /><text class=\"lab\" transform=\"translate(0 11)\">10</text></g><g class=\"a14 i7 leaf node n11 p1 sample\" transform=\"translate(16.7333 64.8667)\"><path class=\"edge\" d=\"M 0 0 V -64.8667 H -16.7333\" /><rect class=\"sym\" height=\"6\" width=\"6\" x=\"-3\" y=\"-3\" /><text class=\"lab\" transform=\"translate(0 11)\">11</text></g><path class=\"edge\" d=\"M 0 0 V -21.6222 H -33.4667\" /><circle class=\"sym\" cx=\"0\" cy=\"0\" r=\"3\" /><text class=\"lab rgt\" transform=\"translate(3 -7.0)\">14</text></g><path class=\"edge\" d=\"M 0 0 V -108.111 H -66.9333\" /><circle class=\"sym\" cx=\"0\" cy=\"0\" r=\"3\" /><text class=\"lab rgt\" transform=\"translate(3 -7.0)\">15</text></g><circle class=\"sym\" cx=\"0\" cy=\"0\" r=\"3\" /><text class=\"lab\" transform=\"translate(0 -11)\">16</text></g></g></g></g></g></svg>"
      ],
      "text/plain": [
       "'<svg baseProfile=\"full\" height=\"300\" version=\"1.1\" width=\"1010\" xmlns=\"http://www.w3.org/2000/svg\" xmlns:ev=\"http://www.w3.org/2001/xml-events\" xmlns:xlink=\"http://www.w3.org/1999/xlink\"><defs><style type=\"text/css\"><![CDATA[.background path {fill: #808080; fill-opacity: 0}.background path:nth-child(odd) {fill-opacity: .1}.axes {font-size: 14px}.x-axis .tick .lab {font-weight: bold; dominant-baseline: hanging}.axes, .tree {font-size: 14px; text-anchor: middle}.axes line, .edge {stroke: black; fill: none}.axes .ax-skip {stroke-dasharray: 4}.y-axis .grid {stroke: #FAFAFA}.node > .sym {fill: black; stroke: none}.site > .sym {stroke: black}.mut text {fill: red; font-style: italic}.mut.extra text {fill: hotpink}.mut line {fill: none; stroke: none}.mut .sym {fill: none; stroke: red}.mut.extra .sym {stroke: hotpink}.node .mut .sym {stroke-width: 1.5px}.tree text, .tree-sequence text {dominant-baseline: central}.plotbox .lab.lft {text-anchor: end}.plotbox .lab.rgt {text-anchor: start}.tree-sequence {transform: translateX(10px)}]]></style></defs><g class=\"tree-sequence\"><g class=\"axes\"><g class=\"x-axis\"><g class=\"title\" transform=\"translate(518.4 300)\"><text class=\"lab\" text-anchor=\"middle\" transform=\"translate(0 -11)\">Genome position</text></g><line class=\"ax-line\" x1=\"56.8\" x2=\"980\" y1=\"263.2\" y2=\"263.2\" /><g class=\"ticks\"><g class=\"tick\" transform=\"translate(56.8 263.2)\"><line x1=\"0\" x2=\"0\" y1=\"-5\" y2=\"5\" /><g transform=\"translate(0 6)\"><text class=\"lab\">0</text></g></g><g class=\"tick\" transform=\"translate(364.533 263.2)\"><line x1=\"0\" x2=\"0\" y1=\"-5\" y2=\"5\" /><g transform=\"translate(0 6)\"><text class=\"lab\">12</text></g></g><g class=\"tick\" transform=\"translate(672.267 263.2)\"><line x1=\"0\" x2=\"0\" y1=\"-5\" y2=\"5\" /><g transform=\"translate(0 6)\"><text class=\"lab\">45</text></g></g><g class=\"tick\" transform=\"translate(980 263.2)\"><line x1=\"0\" x2=\"0\" y1=\"-5\" y2=\"5\" /><g transform=\"translate(0 6)\"><text class=\"lab\">50</text></g></g></g></g><g class=\"y-axis\"><g class=\"title\" transform=\"translate(0 115.7)\"><text class=\"lab\" text-anchor=\"middle\" transform=\"translate(11) rotate(-90)\"> </text></g><line class=\"ax-line\" x1=\"56.8\" x2=\"56.8\" y1=\"221.4\" y2=\"10\" /><g class=\"ticks\"><g class=\"tick\" transform=\"translate(56.8 221.4)\"><line x1=\"0\" x2=\"-5\" y1=\"0\" y2=\"0\" /><g transform=\"translate(-6 0)\"><text class=\"lab\" text-anchor=\"end\">0.00</text></g></g><g class=\"tick\" transform=\"translate(56.8 199.778)\"><line x1=\"0\" x2=\"-5\" y1=\"0\" y2=\"0\" /><g transform=\"translate(-6 0)\"><text class=\"lab\" text-anchor=\"end\">97.88</text></g></g><g class=\"tick\" transform=\"translate(56.8 178.156)\"><line x1=\"0\" x2=\"-5\" y1=\"0\" y2=\"0\" /><g transform=\"translate(-6 0)\"><text class=\"lab\" text-anchor=\"end\">101.30</text></g></g><g class=\"tick\" transform=\"translate(56.8 156.533)\"><line x1=\"0\" x2=\"-5\" y1=\"0\" y2=\"0\" /><g transform=\"translate(-6 0)\"><text class=\"lab\" text-anchor=\"end\">108.17</text></g></g><g class=\"tick\" transform=\"translate(56.8 134.911)\"><line x1=\"0\" x2=\"-5\" y1=\"0\" y2=\"0\" /><g transform=\"translate(-6 0)\"><text class=\"lab\" text-anchor=\"end\">158.72</text></g></g><g class=\"tick\" transform=\"translate(56.8 113.289)\"><line x1=\"0\" x2=\"-5\" y1=\"0\" y2=\"0\" /><g transform=\"translate(-6 0)\"><text class=\"lab\" text-anchor=\"end\">2080.20</text></g></g><g class=\"tick\" transform=\"translate(56.8 91.6667)\"><line x1=\"0\" x2=\"-5\" y1=\"0\" y2=\"0\" /><g transform=\"translate(-6 0)\"><text class=\"lab\" text-anchor=\"end\">17694.55</text></g></g><g class=\"tick\" transform=\"translate(56.8 70.0444)\"><line x1=\"0\" x2=\"-5\" y1=\"0\" y2=\"0\" /><g transform=\"translate(-6 0)\"><text class=\"lab\" text-anchor=\"end\">19402.96</text></g></g><g class=\"tick\" transform=\"translate(56.8 48.4222)\"><line x1=\"0\" x2=\"-5\" y1=\"0\" y2=\"0\" /><g transform=\"translate(-6 0)\"><text class=\"lab\" text-anchor=\"end\">23320.81</text></g></g><g class=\"tick\" transform=\"translate(56.8 26.8)\"><line x1=\"0\" x2=\"-5\" y1=\"0\" y2=\"0\" /><g transform=\"translate(-6 0)\"><text class=\"lab\" text-anchor=\"end\">125868.85</text></g></g></g></g></g><g class=\"plotbox trees\"><g class=\"tree t0\" transform=\"translate(56.8 0)\"><g class=\"plotbox\"><g class=\"c2 node n16 p2 root\" transform=\"translate(158.05 26.8)\"><g class=\"a16 c2 node n7 p0\" transform=\"translate(-83.6667 21.6222)\"><g class=\"a7 i0 leaf node n0 p0 sample\" transform=\"translate(-37.65 172.978)\"><path class=\"edge\" d=\"M 0 0 V -172.978 H 37.65\" /><rect class=\"sym\" height=\"6\" width=\"6\" x=\"-3\" y=\"-3\" /><text class=\"lab\" transform=\"translate(0 11)\">0</text></g><g class=\"a7 c2 node n5 p0\" transform=\"translate(37.65 43.2444)\"><g class=\"a5 i3 leaf node n3 p0 sample\" transform=\"translate(25.1 129.733)\"><path class=\"edge\" d=\"M 0 0 V -129.733 H -25.1\" /><rect class=\"sym\" height=\"6\" width=\"6\" x=\"-3\" y=\"-3\" /><text class=\"lab\" transform=\"translate(0 11)\">3</text></g><g class=\"a5 c2 node n4 p0\" transform=\"translate(-25.1 21.6222)\"><g class=\"a4 i1 leaf node n1 p0 sample\" transform=\"translate(-16.7333 108.111)\"><path class=\"edge\" d=\"M 0 0 V -108.111 H 16.7333\" /><rect class=\"sym\" height=\"6\" width=\"6\" x=\"-3\" y=\"-3\" /><text class=\"lab\" transform=\"translate(0 11)\">1</text></g><g class=\"a4 i2 leaf node n2 p0 sample\" transform=\"translate(16.7333 108.111)\"><path class=\"edge\" d=\"M 0 0 V -108.111 H -16.7333\" /><rect class=\"sym\" height=\"6\" width=\"6\" x=\"-3\" y=\"-3\" /><text class=\"lab\" transform=\"translate(0 11)\">2</text></g><path class=\"edge\" d=\"M 0 0 V -21.6222 H 25.1\" /><circle class=\"sym\" cx=\"0\" cy=\"0\" r=\"3\" /><text class=\"lab lft\" transform=\"translate(-3 -7.0)\">4</text></g><path class=\"edge\" d=\"M 0 0 V -43.2444 H -37.65\" /><circle class=\"sym\" cx=\"0\" cy=\"0\" r=\"3\" /><text class=\"lab rgt\" transform=\"translate(3 -7.0)\">5</text></g><path class=\"edge\" d=\"M 0 0 V -21.6222 H 83.6667\" /><circle class=\"sym\" cx=\"0\" cy=\"0\" r=\"3\" /><text class=\"lab lft\" transform=\"translate(-3 -7.0)\">7</text></g><g class=\"a16 c2 node n14 p1\" transform=\"translate(83.6667 129.733)\"><g class=\"a14 i6 leaf node n10 p1 sample\" transform=\"translate(29.2833 64.8667)\"><path class=\"edge\" d=\"M 0 0 V -64.8667 H -29.2833\" /><rect class=\"sym\" height=\"6\" width=\"6\" x=\"-3\" y=\"-3\" /><text class=\"lab\" transform=\"translate(0 11)\">10</text></g><g class=\"a14 c2 node n13 p1\" transform=\"translate(-29.2833 21.6222)\"><g class=\"a13 i7 leaf node n11 p1 sample\" transform=\"translate(25.1 43.2444)\"><path class=\"edge\" d=\"M 0 0 V -43.2444 H -25.1\" /><rect class=\"sym\" height=\"6\" width=\"6\" x=\"-3\" y=\"-3\" /><text class=\"lab\" transform=\"translate(0 11)\">11</text></g><g class=\"a13 c2 node n12 p1\" transform=\"translate(-25.1 21.6222)\"><g class=\"a12 i4 leaf node n8 p1 sample\" transform=\"translate(-16.7333 21.6222)\"><path class=\"edge\" d=\"M 0 0 V -21.6222 H 16.7333\" /><rect class=\"sym\" height=\"6\" width=\"6\" x=\"-3\" y=\"-3\" /><text class=\"lab\" transform=\"translate(0 11)\">8</text></g><g class=\"a12 i5 leaf node n9 p1 sample\" transform=\"translate(16.7333 21.6222)\"><path class=\"edge\" d=\"M 0 0 V -21.6222 H -16.7333\" /><rect class=\"sym\" height=\"6\" width=\"6\" x=\"-3\" y=\"-3\" /><text class=\"lab\" transform=\"translate(0 11)\">9</text></g><path class=\"edge\" d=\"M 0 0 V -21.6222 H 25.1\" /><circle class=\"sym\" cx=\"0\" cy=\"0\" r=\"3\" /><text class=\"lab lft\" transform=\"translate(-3 -7.0)\">12</text></g><path class=\"edge\" d=\"M 0 0 V -21.6222 H 29.2833\" /><circle class=\"sym\" cx=\"0\" cy=\"0\" r=\"3\" /><text class=\"lab lft\" transform=\"translate(-3 -7.0)\">13</text></g><path class=\"edge\" d=\"M 0 0 V -129.733 H -83.6667\" /><circle class=\"sym\" cx=\"0\" cy=\"0\" r=\"3\" /><text class=\"lab rgt\" transform=\"translate(3 -7.0)\">14</text></g><circle class=\"sym\" cx=\"0\" cy=\"0\" r=\"3\" /><text class=\"lab\" transform=\"translate(0 -11)\">16</text></g></g></g><g class=\"tree t1\" transform=\"translate(364.533 0)\"><g class=\"plotbox\"><g class=\"c2 node n16 p2 root\" transform=\"translate(164.325 26.8)\"><g class=\"a16 c2 node n7 p0\" transform=\"translate(-77.3917 21.6222)\"><g class=\"a7 c2 node n4 p0\" transform=\"translate(33.4667 64.8667)\"><g class=\"a4 i1 leaf node n1 p0 sample\" transform=\"translate(-16.7333 108.111)\"><path class=\"edge\" d=\"M 0 0 V -108.111 H 16.7333\" /><rect class=\"sym\" height=\"6\" width=\"6\" x=\"-3\" y=\"-3\" /><text class=\"lab\" transform=\"translate(0 11)\">1</text></g><g class=\"a4 i2 leaf node n2 p0 sample\" transform=\"translate(16.7333 108.111)\"><path class=\"edge\" d=\"M 0 0 V -108.111 H -16.7333\" /><rect class=\"sym\" height=\"6\" width=\"6\" x=\"-3\" y=\"-3\" /><text class=\"lab\" transform=\"translate(0 11)\">2</text></g><path class=\"edge\" d=\"M 0 0 V -64.8667 H -33.4667\" /><circle class=\"sym\" cx=\"0\" cy=\"0\" r=\"3\" /><text class=\"lab rgt\" transform=\"translate(3 -7.0)\">4</text></g><g class=\"a7 c2 node n6 p0\" transform=\"translate(-33.4667 21.6222)\"><g class=\"a6 i0 leaf node n0 p0 sample\" transform=\"translate(-16.7333 151.356)\"><path class=\"edge\" d=\"M 0 0 V -151.356 H 16.7333\" /><rect class=\"sym\" height=\"6\" width=\"6\" x=\"-3\" y=\"-3\" /><text class=\"lab\" transform=\"translate(0 11)\">0</text></g><g class=\"a6 i3 leaf node n3 p0 sample\" transform=\"translate(16.7333 151.356)\"><path class=\"edge\" d=\"M 0 0 V -151.356 H -16.7333\" /><rect class=\"sym\" height=\"6\" width=\"6\" x=\"-3\" y=\"-3\" /><text class=\"lab\" transform=\"translate(0 11)\">3</text></g><path class=\"edge\" d=\"M 0 0 V -21.6222 H 33.4667\" /><circle class=\"sym\" cx=\"0\" cy=\"0\" r=\"3\" /><text class=\"lab lft\" transform=\"translate(-3 -7.0)\">6</text></g><path class=\"edge\" d=\"M 0 0 V -21.6222 H 77.3917\" /><circle class=\"sym\" cx=\"0\" cy=\"0\" r=\"3\" /><text class=\"lab lft\" transform=\"translate(-3 -7.0)\">7</text></g><g class=\"a16 c2 node n14 p1\" transform=\"translate(77.3917 129.733)\"><g class=\"a14 i6 leaf node n10 p1 sample\" transform=\"translate(29.2833 64.8667)\"><path class=\"edge\" d=\"M 0 0 V -64.8667 H -29.2833\" /><rect class=\"sym\" height=\"6\" width=\"6\" x=\"-3\" y=\"-3\" /><text class=\"lab\" transform=\"translate(0 11)\">10</text></g><g class=\"a14 c2 node n13 p1\" transform=\"translate(-29.2833 21.6222)\"><g class=\"a13 i7 leaf node n11 p1 sample\" transform=\"translate(25.1 43.2444)\"><path class=\"edge\" d=\"M 0 0 V -43.2444 H -25.1\" /><rect class=\"sym\" height=\"6\" width=\"6\" x=\"-3\" y=\"-3\" /><text class=\"lab\" transform=\"translate(0 11)\">11</text></g><g class=\"a13 c2 node n12 p1\" transform=\"translate(-25.1 21.6222)\"><g class=\"a12 i4 leaf node n8 p1 sample\" transform=\"translate(-16.7333 21.6222)\"><path class=\"edge\" d=\"M 0 0 V -21.6222 H 16.7333\" /><rect class=\"sym\" height=\"6\" width=\"6\" x=\"-3\" y=\"-3\" /><text class=\"lab\" transform=\"translate(0 11)\">8</text></g><g class=\"a12 i5 leaf node n9 p1 sample\" transform=\"translate(16.7333 21.6222)\"><path class=\"edge\" d=\"M 0 0 V -21.6222 H -16.7333\" /><rect class=\"sym\" height=\"6\" width=\"6\" x=\"-3\" y=\"-3\" /><text class=\"lab\" transform=\"translate(0 11)\">9</text></g><path class=\"edge\" d=\"M 0 0 V -21.6222 H 25.1\" /><circle class=\"sym\" cx=\"0\" cy=\"0\" r=\"3\" /><text class=\"lab lft\" transform=\"translate(-3 -7.0)\">12</text></g><path class=\"edge\" d=\"M 0 0 V -21.6222 H 29.2833\" /><circle class=\"sym\" cx=\"0\" cy=\"0\" r=\"3\" /><text class=\"lab lft\" transform=\"translate(-3 -7.0)\">13</text></g><path class=\"edge\" d=\"M 0 0 V -129.733 H -77.3917\" /><circle class=\"sym\" cx=\"0\" cy=\"0\" r=\"3\" /><text class=\"lab rgt\" transform=\"translate(3 -7.0)\">14</text></g><circle class=\"sym\" cx=\"0\" cy=\"0\" r=\"3\" /><text class=\"lab\" transform=\"translate(0 -11)\">16</text></g></g></g><g class=\"tree t2\" transform=\"translate(672.267 0)\"><g class=\"plotbox\"><g class=\"c2 node n16 p2 root\" transform=\"translate(153.867 26.8)\"><g class=\"a16 c2 node n7 p0\" transform=\"translate(-66.9333 21.6222)\"><g class=\"a7 c2 node n4 p0\" transform=\"translate(33.4667 64.8667)\"><g class=\"a4 i1 leaf node n1 p0 sample\" transform=\"translate(-16.7333 108.111)\"><path class=\"edge\" d=\"M 0 0 V -108.111 H 16.7333\" /><rect class=\"sym\" height=\"6\" width=\"6\" x=\"-3\" y=\"-3\" /><text class=\"lab\" transform=\"translate(0 11)\">1</text></g><g class=\"a4 i2 leaf node n2 p0 sample\" transform=\"translate(16.7333 108.111)\"><path class=\"edge\" d=\"M 0 0 V -108.111 H -16.7333\" /><rect class=\"sym\" height=\"6\" width=\"6\" x=\"-3\" y=\"-3\" /><text class=\"lab\" transform=\"translate(0 11)\">2</text></g><path class=\"edge\" d=\"M 0 0 V -64.8667 H -33.4667\" /><circle class=\"sym\" cx=\"0\" cy=\"0\" r=\"3\" /><text class=\"lab rgt\" transform=\"translate(3 -7.0)\">4</text></g><g class=\"a7 c2 node n6 p0\" transform=\"translate(-33.4667 21.6222)\"><g class=\"a6 i0 leaf node n0 p0 sample\" transform=\"translate(-16.7333 151.356)\"><path class=\"edge\" d=\"M 0 0 V -151.356 H 16.7333\" /><rect class=\"sym\" height=\"6\" width=\"6\" x=\"-3\" y=\"-3\" /><text class=\"lab\" transform=\"translate(0 11)\">0</text></g><g class=\"a6 i3 leaf node n3 p0 sample\" transform=\"translate(16.7333 151.356)\"><path class=\"edge\" d=\"M 0 0 V -151.356 H -16.7333\" /><rect class=\"sym\" height=\"6\" width=\"6\" x=\"-3\" y=\"-3\" /><text class=\"lab\" transform=\"translate(0 11)\">3</text></g><path class=\"edge\" d=\"M 0 0 V -21.6222 H 33.4667\" /><circle class=\"sym\" cx=\"0\" cy=\"0\" r=\"3\" /><text class=\"lab lft\" transform=\"translate(-3 -7.0)\">6</text></g><path class=\"edge\" d=\"M 0 0 V -21.6222 H 66.9333\" /><circle class=\"sym\" cx=\"0\" cy=\"0\" r=\"3\" /><text class=\"lab lft\" transform=\"translate(-3 -7.0)\">7</text></g><g class=\"a16 c2 node n15 p1\" transform=\"translate(66.9333 108.111)\"><g class=\"a15 c2 node n12 p1\" transform=\"translate(-33.4667 64.8667)\"><g class=\"a12 i4 leaf node n8 p1 sample\" transform=\"translate(-16.7333 21.6222)\"><path class=\"edge\" d=\"M 0 0 V -21.6222 H 16.7333\" /><rect class=\"sym\" height=\"6\" width=\"6\" x=\"-3\" y=\"-3\" /><text class=\"lab\" transform=\"translate(0 11)\">8</text></g><g class=\"a12 i5 leaf node n9 p1 sample\" transform=\"translate(16.7333 21.6222)\"><path class=\"edge\" d=\"M 0 0 V -21.6222 H -16.7333\" /><rect class=\"sym\" height=\"6\" width=\"6\" x=\"-3\" y=\"-3\" /><text class=\"lab\" transform=\"translate(0 11)\">9</text></g><path class=\"edge\" d=\"M 0 0 V -64.8667 H 33.4667\" /><circle class=\"sym\" cx=\"0\" cy=\"0\" r=\"3\" /><text class=\"lab lft\" transform=\"translate(-3 -7.0)\">12</text></g><g class=\"a15 c2 node n14 p1\" transform=\"translate(33.4667 21.6222)\"><g class=\"a14 i6 leaf node n10 p1 sample\" transform=\"translate(-16.7333 64.8667)\"><path class=\"edge\" d=\"M 0 0 V -64.8667 H 16.7333\" /><rect class=\"sym\" height=\"6\" width=\"6\" x=\"-3\" y=\"-3\" /><text class=\"lab\" transform=\"translate(0 11)\">10</text></g><g class=\"a14 i7 leaf node n11 p1 sample\" transform=\"translate(16.7333 64.8667)\"><path class=\"edge\" d=\"M 0 0 V -64.8667 H -16.7333\" /><rect class=\"sym\" height=\"6\" width=\"6\" x=\"-3\" y=\"-3\" /><text class=\"lab\" transform=\"translate(0 11)\">11</text></g><path class=\"edge\" d=\"M 0 0 V -21.6222 H -33.4667\" /><circle class=\"sym\" cx=\"0\" cy=\"0\" r=\"3\" /><text class=\"lab rgt\" transform=\"translate(3 -7.0)\">14</text></g><path class=\"edge\" d=\"M 0 0 V -108.111 H -66.9333\" /><circle class=\"sym\" cx=\"0\" cy=\"0\" r=\"3\" /><text class=\"lab rgt\" transform=\"translate(3 -7.0)\">15</text></g><circle class=\"sym\" cx=\"0\" cy=\"0\" r=\"3\" /><text class=\"lab\" transform=\"translate(0 -11)\">16</text></g></g></g></g></g></svg>'"
      ]
     },
     "metadata": {},
     "output_type": "display_data"
    }
   ],
   "source": [
    "svg_size = (1000, 300) # Height and width for the SVG: optional but useful for this notebook\n",
    "svg_string = tsu_recap.draw_svg(\n",
    "    path=\"tsu_recap.svg\",\n",
    "    size=svg_size,\n",
    "    y_axis=True, y_label=\" \",  # optional: show a time scale on the left\n",
    "    time_scale=\"rank\", x_scale=\"treewise\", canvas_size=(svg_size[0]+10, svg_size[1]), style=\".tree-sequence {transform: translateX(10px)}\",  # Force same axis settings as the text view\n",
    ")\n",
    "display(svg_string)"
   ]
  },
  {
   "cell_type": "code",
   "execution_count": null,
   "id": "6ea88796-8543-4b50-be71-130aaf3d8a73",
   "metadata": {},
   "outputs": [],
   "source": []
  }
 ],
 "metadata": {
  "kernelspec": {
   "display_name": "union",
   "language": "python",
   "name": "union"
  },
  "language_info": {
   "codemirror_mode": {
    "name": "ipython",
    "version": 3
   },
   "file_extension": ".py",
   "mimetype": "text/x-python",
   "name": "python",
   "nbconvert_exporter": "python",
   "pygments_lexer": "ipython3",
   "version": "3.10.13"
  }
 },
 "nbformat": 4,
 "nbformat_minor": 5
}
